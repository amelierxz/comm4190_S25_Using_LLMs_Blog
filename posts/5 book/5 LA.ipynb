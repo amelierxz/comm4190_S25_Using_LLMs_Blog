{
 "cells": [
  {
   "cell_type": "raw",
   "id": "dcdebc35-a351-461c-91d3-819b39f695f6",
   "metadata": {},
   "source": [
    "---\n",
    "title: \"Picking the perfect gift: LLM brainstorming\"\n",
    "description: \"Trying my best to decide what book my friend would like most, but using AI as an aid.\"\n",
    "author: \"Amelie Zhang\"\n",
    "date: \"2/12/2025\"\n",
    "categories:\n",
    "  - LLMs\n",
    "  - books\n",
    "---"
   ]
  },
  {
   "cell_type": "markdown",
   "id": "7696b220-f21a-4d72-885d-e43b078856fc",
   "metadata": {},
   "source": [
    "## The story: \n",
    "\n",
    "After staring at Amazon pages, Wikipedia summaries, and book reviews, for honestly an hour, I decided this would be a great way to use AI to consolidate all of the content and info about these books together. I wanted to pick out a short story for my friend's birthday, so I just scanned through the options by having them compiled by GPT 4o. As such, our conversation was as follows:\n"
   ]
  },
  {
   "cell_type": "markdown",
   "id": "479a8f6d-ee85-4166-8b93-263d227895a4",
   "metadata": {},
   "source": [
    "## First Prompt:\n",
    "Hi! I'm buying a gift for a friend and I'm thinking about a book or collection of short stories. I really like  those by Kafka and Poe. What are some ideas?"
   ]
  },
  {
   "cell_type": "markdown",
   "id": "a93ba36c-d875-4b7e-b1e6-9a86eb608d31",
   "metadata": {},
   "source": [
    "## First Response: \n",
    "That’s a great starting point—both Kafka and Poe have that dark, introspective, and sometimes surreal edge. Here are some suggestions depending on which aspect you want to lean into:\n",
    "\n",
    "### If You Want to Stay Close to Kafka’s Existential and Absurdist Themes:\n",
    "\n",
    "* **Albert Camus – *Exile and the Kingdom***: A lesser-known collection of short stories exploring isolation and absurdity.\n",
    "* **Bruno Schulz – *The Street of Crocodiles***: Rich, dreamlike prose that feels very Kafkaesque in its depiction of strange, decaying towns.\n",
    "* **Franz Kafka – *The Complete Stories*** (if they don’t already own this—it’s a must-have).\n",
    "\n",
    "### If You’re Leaning Toward Poe’s Gothic and Macabre:\n",
    "\n",
    "* **H.P. Lovecraft – *The Call of Cthulhu and Other Weird Stories***: Classic cosmic horror and existential dread.\n",
    "* **Shirley Jackson – *Dark Tales***: Quietly terrifying stories, very psychological and unsettling.\n",
    "* **Angela Carter – *The Bloody Chamber***: Gothic fairy tales retold with dark, feminist twists.\n",
    "\n",
    "### If You Want Something a Bit More Contemporary But In the Same Spirit:\n",
    "\n",
    "* **George Saunders – *Tenth of December***: Surreal and darkly humorous stories that explore human frailty.\n",
    "* **Ottessa Moshfegh – *Homesick for Another World***: Bleak, strange, and oddly funny explorations of alienation.\n",
    "* **Ted Chiang – *Stories of Your Life and Others***: Thoughtful, speculative fiction with philosophical weight (including the story that inspired *Arrival*).\n",
    "\n",
    "Do you know if your friend prefers more classic works or something modern?\n"
   ]
  },
  {
   "cell_type": "markdown",
   "id": "e35dc7e0-044c-4d9d-9c50-45a3f79835e8",
   "metadata": {},
   "source": [
    "## Follow up question:\n",
    "What about more classic works, potentially more positive!"
   ]
  },
  {
   "cell_type": "markdown",
   "id": "4d1ff7bf-60d1-4ecc-bfd2-383a66c92d8c",
   "metadata": {},
   "source": [
    "## Second Response: \n",
    "If you’re looking for something classic *and* more positive—perhaps still profound but with a sense of wonder or hope—here are some excellent choices:\n",
    "\n",
    "### Classic, Uplifting, or Wonder-Filled Short Story Collections:\n",
    "\n",
    "* **Anton Chekhov – *Selected Stories***: While some are melancholic, many explore everyday moments with warmth, humor, and deep humanity.\n",
    "* **Rudyard Kipling – *The Jungle Book***: Beyond the Disney version, these are beautifully written coming-of-age stories filled with adventure and moral lessons.\n",
    "* **Oscar Wilde – *The Happy Prince and Other Tales***: Gorgeous, heartfelt fairy tales for adults and children alike, often bittersweet but filled with beauty and kindness.\n",
    "* **Leo Tolstoy – *Twenty-Three Tales***: Short stories with strong moral undercurrents and a focus on compassion and the good life.\n",
    "\n",
    "### If They Appreciate Philosophy and Optimism:\n",
    "\n",
    "* **Marcus Aurelius – *Meditations*** (not a story collection, but timeless, uplifting philosophical reflections).\n",
    "* **Kahlil Gibran – *The Prophet***: Lyrical essays that read almost like parables, offering gentle life wisdom and hope.\n",
    "\n",
    "Would you like me to narrow this down to one or two that feel the most timeless and gift-worthy?\n"
   ]
  },
  {
   "cell_type": "markdown",
   "id": "6de9673d-67f8-4224-b7f9-c7b17b05c748",
   "metadata": {},
   "source": [
    "## Another question:\n",
    "What about more novel style books that still have this essense?"
   ]
  },
  {
   "cell_type": "markdown",
   "id": "267a4f43-615c-48d5-aea3-229eeb56df5a",
   "metadata": {},
   "source": [
    "## Last response:\n",
    "If you're leaning toward full novels that carry a *positive, life-affirming spirit* while still offering deep reflection (and maybe a touch of the surreal or philosophical), here are some classics that strike that balance:\n",
    "\n",
    "### Life-Affirming Classics with Depth:\n",
    "\n",
    "* **Hermann Hesse – *Siddhartha***: A beautifully simple novel about spiritual self-discovery and the search for enlightenment.\n",
    "* **Antoine de Saint-Exupéry – *The Little Prince***: Technically a children’s book, but universally beloved for its profound reflections on love, loss, and the meaning of life.\n",
    "* **Italo Calvino – *Invisible Cities***: Dreamlike and philosophical, exploring imagined cities through conversations between Marco Polo and Kublai Khan. A celebration of imagination and perception.\n",
    "* **Laurie Lee – *As I Walked Out One Midsummer Morning***: A lyrical memoir that reads like a novel, chronicling Lee’s walking journey through Spain with youthful optimism and wonder.\n",
    "\n",
    "### Gentle and Beautifully Human:\n",
    "\n",
    "* **Elizabeth Gaskell – *Cranford***: Quiet humor and kindness dominate this portrait of small-town life, full of endearing characters and warmth.\n",
    "* **E.M. Forster – *A Room with a View***: A lighthearted critique of Edwardian society with a hopeful message about love and personal freedom.\n",
    "* **Marcel Pagnol – *My Father’s Glory & My Mother’s Castle***: Joyful, sun-drenched memoir-novels about childhood in Provence, filled with nostalgia and affection.\n",
    "\n",
    "Would you prefer one with more of a *spiritual journey* (like *Siddhartha*) or a *celebration of everyday life* (like *Cranford*)?\n"
   ]
  },
  {
   "cell_type": "markdown",
   "id": "2bed154b-1e93-40eb-a86a-239bc30ca637",
   "metadata": {},
   "source": [
    "## Reflection: \n",
    "\n",
    "This was honestly super helpful! I think this encapsulates how LLMs can be super helpful in every day life, when you're looking for a shortcut to make something happen faster. This probably shvaed hours off of the time I spent thinking about this gift, and I thought it worked well. In the end, I picked **Ted Chiang – *Stories of Your Life and Others***, which I myself really enjoyed reading a few years ago. If you have time, I think this would be a great read for anyone! Especially if you like science fiction and philosophy."
   ]
  },
  {
   "cell_type": "markdown",
   "id": "8c4c0f34-b143-415c-a011-2499f2f133ed",
   "metadata": {},
   "source": [
    "<img src=\"e.jpg\" width=\"50%\">"
   ]
  }
 ],
 "metadata": {
  "kernelspec": {
   "display_name": "Python 3 (ipykernel)",
   "language": "python",
   "name": "python3"
  },
  "language_info": {
   "codemirror_mode": {
    "name": "ipython",
    "version": 3
   },
   "file_extension": ".py",
   "mimetype": "text/x-python",
   "name": "python",
   "nbconvert_exporter": "python",
   "pygments_lexer": "ipython3",
   "version": "3.10.12"
  }
 },
 "nbformat": 4,
 "nbformat_minor": 5
}
