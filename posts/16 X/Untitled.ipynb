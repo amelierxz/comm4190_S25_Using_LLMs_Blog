{
 "cells": [
  {
   "cell_type": "raw",
   "id": "3a50cd40-c244-43b0-b1d6-7ee400c62227",
   "metadata": {},
   "source": [
    "---\n",
    "title: \"Using OpenAI Deep Research: Absorbing multiple sources of information and merging into output\"\n",
    "description: \"\"\n",
    "author: \"Amelie Zhang\"\n",
    "date: \"4/7/2024\"\n",
    "categories:\n",
    "  - LLMs\n",
    "  - marketing\n",
    "  - chart making\n",
    "\n",
    "---"
   ]
  },
  {
   "cell_type": "markdown",
   "id": "6b47fc4b-2496-43f5-a8ba-e35c62e4d270",
   "metadata": {},
   "source": [
    "# Original, lengthy prompt:\n",
    "I'm doing a project for my macroeconomics class about the Argentine Great Depression (1998-2001) and I need you to help me in research, application to the class, and structuring/creating the content for my presentation. \n",
    "\n",
    "To start, I want you to just give a few paragraphs summary on what happened in this Argentine Great Depression, and what the results were. Give it to me in simple, concise, yet accurate sentences for me to best understand the event quickly.\n",
    "\n",
    "After that, I want you to utilize the deep research to meet the presentation requirements:\n",
    "\"Background: 1-2 slides which provide an overview of the country’s economy and\n",
    "relevant historical background.\n",
    "• The overview of the economy can include a description of the large sectors\n",
    "(in terms of value added) in the economy, a comparison of GDP per capita\n",
    "to neighboring countries at the time, the demographics of the country (if\n",
    "relevant), etc.\n",
    "2) Overview of the crisis: 1-2 slides that describes the events leading to the crisis, how\n",
    "the crisis unfolded, and the ensuing recovery.\n",
    "3) Analysis: 2-4 slides in which you analyze the economic crisis using the tools learned\n",
    "in class (primarily the IS-LM model). You need to decide how the shock should be\n",
    "modeled in the framework, and interpret the unfolding of the crisis and its recovery\n",
    "using the model. In doing so, you should present data on the behavior of key\n",
    "economic variables, such as real GDP, unemployment, investment, consumption,\n",
    "exports, imports, and the exchange rate.\"\n",
    "For each of these three components, I want in depth explanations and fitting content so that I can make a presentation with your response. I also want to emphasize the imporance of the third component. I need to very simply yet accurately apply the IS-LM model to the event. Let me know if you have any questions about what class materials you should be refrencing for this section.\n",
    "For economic data, utilize World bank: https://data.worldbank.org/\n",
    "2. International monetary fund: https://data.imf.org/\n",
    "3. OECD: https://data.oecd.org/"
   ]
  },
  {
   "cell_type": "markdown",
   "id": "9415c080-ccb9-45d4-81b3-6737cc1e43be",
   "metadata": {},
   "source": [
    "# GPT's follow up questions:\n",
    "Got it! To create the best possible presentation and analysis, could you please clarify a couple of things:\n",
    "\n",
    "Do you already have a specific country or countries in mind for GDP per capita comparisons in the background section, or should I choose neighboring ones like Brazil, Chile, and Uruguay?\n",
    "\n",
    "Do you have any class notes or slides on the IS-LM model that describe what assumptions or simplifications your professor prefers (e.g., fixed vs. flexible exchange rates, openness to trade, capital mobility)? That way I can make sure to tailor the IS-LM analysis to your course.\n",
    "\n",
    "Would you prefer charts and tables included in the response that you can directly insert into your slides, or mostly written explanations that you can then convert into slides?\n",
    "\n",
    "Once I have these details, I’ll dive into the full research and presentation structure for you!"
   ]
  },
  {
   "cell_type": "markdown",
   "id": "fac778fc-0f24-4045-98c1-37fa4e12f9f3",
   "metadata": {},
   "source": [
    "# My team"
   ]
  }
 ],
 "metadata": {
  "kernelspec": {
   "display_name": "Python 3 (ipykernel)",
   "language": "python",
   "name": "python3"
  },
  "language_info": {
   "codemirror_mode": {
    "name": "ipython",
    "version": 3
   },
   "file_extension": ".py",
   "mimetype": "text/x-python",
   "name": "python",
   "nbconvert_exporter": "python",
   "pygments_lexer": "ipython3",
   "version": "3.10.12"
  }
 },
 "nbformat": 4,
 "nbformat_minor": 5
}
