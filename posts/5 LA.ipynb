{
 "cells": [
  {
   "cell_type": "raw",
   "id": "dcdebc35-a351-461c-91d3-819b39f695f6",
   "metadata": {},
   "source": [
    "---\n",
    "title: \"Sose's expertise: LA\"\n",
    "description: \"Not best city\"\n",
    "author: \"An LLM User\"\n",
    "date: \"2/12/2024\"\n",
    "categories:\n",
    "  - LLMs\n",
    "  - in class\n",
    "---"
   ]
  },
  {
   "cell_type": "markdown",
   "id": "479a8f6d-ee85-4166-8b93-263d227895a4",
   "metadata": {},
   "source": [
    "## Los Angeles:"
   ]
  },
  {
   "cell_type": "markdown",
   "id": "a93ba36c-d875-4b7e-b1e6-9a86eb608d31",
   "metadata": {},
   "source": [
    "LA is a city that’s hard to pin down—it’s massive, spread out, and full of contradictions. One minute you’re stuck in traffic on the 405, and the next you’re driving along the coast with the most unreal sunset in front of you. There’s the Hollywood glamour, sure, but also the grittier, more creative side—street art in the Arts District, taco trucks that serve better food than any five-star restaurant, and a music scene that always feels like it’s one step ahead of everywhere else. It’s a place where everyone seems to be chasing something, whether it’s a career in entertainment, a startup dream, or just the perfect beach day.\n"
   ]
  },
  {
   "cell_type": "markdown",
   "id": "e35dc7e0-044c-4d9d-9c50-45a3f79835e8",
   "metadata": {},
   "source": [
    "But LA isn’t just what you see in the movies. It’s got this weird mix of being both super laid-back and insanely competitive at the same time. People wear yoga pants everywhere and act like they don’t care, but also hustle harder than anyone. The neighborhoods feel like their own little worlds—Silver Lake is all about indie coffee shops and thrift stores, while Beverly Hills is just straight-up luxury. And then there’s Koreatown, where you can get the best late-night food, or Venice, where every other person is skating or filming something for TikTok. It’s a city that can feel overwhelming, but also kind of magical if you know where to look."
   ]
  },
  {
   "cell_type": "markdown",
   "id": "4d1ff7bf-60d1-4ecc-bfd2-383a66c92d8c",
   "metadata": {},
   "source": [
    "What I love most about LA is how, despite its craziness, there’s always room to breathe. You can escape to Malibu or hike up to Griffith Observatory and get this insane view of the whole city stretching out forever. There’s something about that mix—city and nature, ambition and chill—that makes LA feel different from anywhere else. People either love it or hate it, but there’s no denying it has a vibe like no other."
   ]
  },
  {
   "cell_type": "markdown",
   "id": "2bed154b-1e93-40eb-a86a-239bc30ca637",
   "metadata": {},
   "source": [
    "## Reflection: \n",
    "\n",
    "This is after we did the in class activity about looking at different people's expertise and comparing the ability of AI to match human experience. Here, I can definitely see how my rendition of LA through AI lacks the same human quality that Sose's did from her memory of growing up there. However, I would be curious if I made it read certain blog posts or content and retry this activity, and see if it could improve its abilities."
   ]
  }
 ],
 "metadata": {
  "kernelspec": {
   "display_name": "Python 3 (ipykernel)",
   "language": "python",
   "name": "python3"
  },
  "language_info": {
   "codemirror_mode": {
    "name": "ipython",
    "version": 3
   },
   "file_extension": ".py",
   "mimetype": "text/x-python",
   "name": "python",
   "nbconvert_exporter": "python",
   "pygments_lexer": "ipython3",
   "version": "3.10.12"
  }
 },
 "nbformat": 4,
 "nbformat_minor": 5
}
