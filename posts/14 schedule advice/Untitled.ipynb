{
 "cells": [
  {
   "cell_type": "raw",
   "id": "131a4c84-6098-4dd0-8ed6-b4a5e8d21e11",
   "metadata": {},
   "source": [
    "---\n",
    "title: \"Fall 2025 Schedule course registration advice\"\n",
    "description: \"Trying to ask GPT for advice... How helpful is it really?\"\n",
    "author: \"Amelie Zhang\"\n",
    "date: \"4/6/2025\"\n",
    "categories:\n",
    "  - LLMs\n",
    "  - advice\n",
    "  - help!\n",
    "\n",
    "---"
   ]
  },
  {
   "cell_type": "markdown",
   "id": "1be679ae-f134-49f6-ac49-2770974179ff",
   "metadata": {},
   "source": [
    "## What we're dealing with:"
   ]
  },
  {
   "cell_type": "markdown",
   "id": "4ce68c3f-57bd-4689-b025-d0d9a3052365",
   "metadata": {},
   "source": [
    "<img src=\"a.png\" width=\"50%\">"
   ]
  },
  {
   "cell_type": "markdown",
   "id": "c853e86a-c34c-4f72-b49d-a25b31f1d46c",
   "metadata": {},
   "source": [
    "As advance registration wraps up this weekend, I've spent a lot of time slightly obsessing over what classes to take this Fall 2025. Because of my dual degree, as well as trying to get a Data science minor, I've ended up having to take a lot of class.\n",
    "\n",
    "Right now, I'm slated to take 6.5 course units this fall, which while seems overwhelming, should hopefully be manageable. \n",
    "\n",
    "However, I was curious about what Chat GPT would say about the courses, even though I know it lacks a lot of the Penn-specific context."
   ]
  },
  {
   "cell_type": "markdown",
   "id": "5f340a43-5d93-4ee0-9f27-0becd712e958",
   "metadata": {},
   "source": [
    "## GPT's response:\n",
    "\n",
    "Thanks for sharing your cart! Here's a breakdown of your **Fall 2025** class schedule and some advice on balance, workload, and logistics.\n",
    "\n",
    "---\n",
    "\n",
    "## ✅ **Courses You’ve Selected:**\n",
    "| Course         | Title                                      | Days & Time               |\n",
    "|----------------|---------------------------------------------|---------------------------|\n",
    "| **ACCT 1020**  | Strategic Cost Analysis                    | TR 3:30–4:59 PM           |\n",
    "| **FNCE 2030**  | Advanced Corporate Finance                 | MW 1:45–3:14 PM           |\n",
    "| **FREN 1226**  | French History and Culture to Modern Day   | MW 10:15–11:44 AM         |\n",
    "| **HIST 1190**  | American Diplomatic History Since 1898     | TR 10:15–11:44 AM         |\n",
    "| **LING 0700**  | Data Science for Studying Language         | TR 12–1:29 PM & R 5:15–6:14 PM |\n",
    "| **MGMT 1110**  | Multinational Management                   | TR 1:45–3:14 PM           |\n",
    "| **MGMT 3010**  | Teamwork and Interpersonal Influence       | MW 3:30–4:59 PM           |\n",
    "\n",
    "---\n",
    "\n",
    "## 🔍 **What’s Good**\n",
    "- **No early mornings**: All classes start after 10 AM, which gives breathing room.\n",
    "- **Even distribution**: Your classes are pretty evenly spaced between M/W and T/R.\n",
    "- **Course variety**: Mix of finance, management, language, and humanities – a well-rounded semester.\n",
    "\n",
    "---\n",
    "\n",
    "## 🧠 **Things to Consider**\n",
    "\n",
    "### 1. 🔄 **Class Overlaps**\n",
    "You have a **time conflict**:\n",
    "- **MGMT 1110** (TR 1:45–3:14 PM) and **FNCE 2030** (MW 1:45–3:14 PM) are fine **individually**,  \n",
    "  but on **Tues/Thurs**, **LING 0700 (12–1:29 PM)** runs **right up to** MGMT 1110. Tight transition — be mindful.\n",
    "\n",
    "More importantly:\n",
    "- **TR afternoons are packed**: HIST 1190 → LING 0700 → MGMT 1110 → ACCT 1020 = **4.5 hours straight**. That’s intense.\n",
    "\n",
    "---\n",
    "\n",
    "### 2. 💻 **LING 0700 Evening Section**\n",
    "- The Thursday night discussion/lab (5:15–6:14 PM) may feel long after your already-packed TR days.\n",
    "- Do you need both the lecture and recitation? Consider dropping section 406 unless required.\n",
    "\n",
    "---\n",
    "\n",
    "### 3. ⚖️ **Workload & Cognitive Load**\n",
    "- **FNCE 2030** and **ACCT 1020** are both **quantitative and conceptually heavy**.\n",
    "- **MGMT 3010** is project-based and time-intensive (teamwork simulations).\n",
    "- Combined with a **language-intensive** FREN 1226 and writing-heavy HIST 1190, this is a **challenging schedule**.\n",
    "\n",
    "### 4. 🧘‍♀️ **Wellness Tip**\n",
    "You don’t have any days fully free — consider if you want one lighter day (maybe drop one class or spread across the week differently).\n",
    "\n",
    "---\n",
    "\n",
    "## 🧾 **Suggestions**\n",
    "\n",
    "- ✅ If you're confident in your time management, this schedule **works** — you're touching all bases: quant, writing, discussion, and teamwork.\n",
    "- 🛠 **Trim or shift** one class if you want better pacing — perhaps drop HIST 1190 (if not needed for requirements), or ask if **LING 0700 recitation** is optional.\n",
    "- 🧩 Be ready for **group projects** in MGMT and potentially FREN — those can stack up in the second half of semester.\n",
    "\n",
    "---\n",
    "\n",
    "Want help checking requirements, alternate sections, or evaluating profs? Happy to dig deeper!"
   ]
  },
  {
   "cell_type": "markdown",
   "id": "c7e041bc-b325-44d6-925b-29bb3a7df331",
   "metadata": {},
   "source": [
    "## Thoughts:\n",
    "\n",
    "Unfortunately, I feel like GPT was not able to offer any additional insights to what I had initially thought about. This is probably because it lacks the knowledge that is intangible and created by being a student at Penn, so I think that this is a good example of a way that AI LLMs lack the same type of human experience that will allow it to be most helpful. This reminds me of when we talked about areas of expertise earlier this semester in class, when Sose and I were thinking about comparing LA and HK from our experience vs. through LLM. Except in this case, GPT was just unable to think about the context and nuances behind the task."
   ]
  }
 ],
 "metadata": {
  "citation-manager": {
   "items": {}
  },
  "kernelspec": {
   "display_name": "Python 3 (ipykernel)",
   "language": "python",
   "name": "python3"
  },
  "language_info": {
   "codemirror_mode": {
    "name": "ipython",
    "version": 3
   },
   "file_extension": ".py",
   "mimetype": "text/x-python",
   "name": "python",
   "nbconvert_exporter": "python",
   "pygments_lexer": "ipython3",
   "version": "3.10.12"
  }
 },
 "nbformat": 4,
 "nbformat_minor": 5
}
