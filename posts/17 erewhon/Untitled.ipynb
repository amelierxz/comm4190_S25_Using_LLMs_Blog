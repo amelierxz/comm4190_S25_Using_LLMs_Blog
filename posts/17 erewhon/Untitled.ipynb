{
 "cells": [
  {
   "cell_type": "raw",
   "id": "79e9f6e3-001f-4afa-ae03-35555f23e5d9",
   "metadata": {},
   "source": [
    "---\n",
    "title: \"Can GPT build the Kahn Retailing Matrix?\"\n",
    "description: \"Some LLM application for my MKTG 1010 final presentation\"\n",
    "author: \"An LLM User\"\n",
    "date: \"4/7/2024\"\n",
    "categories:\n",
    "  - LLMs\n",
    "  - marketing\n",
    "  - chart making\n",
    "\n",
    "---"
   ]
  },
  {
   "cell_type": "markdown",
   "id": "b007267c-b773-40ab-891e-0d968bb4f848",
   "metadata": {},
   "source": [
    "## Prompt:\n",
    "Can you recreate this matrix but for Erewhon, the LA grocery store. they are strongest in brand and experiential.\n",
    "\n",
    "I used the two graphs below as examples of what the Kahn Retailing Matrix looks like and how to apply it to a company."
   ]
  },
  {
   "cell_type": "markdown",
   "id": "8c7ed91d-fc46-4a39-9f05-da956ce3a67c",
   "metadata": {},
   "source": [
    "<img src=\"a.png\" width=\"50%\">\n",
    "<img src=\"b.png\" width=\"50%\">"
   ]
  },
  {
   "cell_type": "markdown",
   "id": "0be8c728-cd7e-47d7-af07-4def08154df4",
   "metadata": {},
   "source": [
    "Here is a recreation of the **Kahn Retailing Success Matrix** applied to **Erewhon**, emphasizing their strengths in **Brand** and **Experiential**:\n",
    "\n",
    "---\n",
    "\n",
    "### **Erewhon Retailing Success Matrix**\n",
    "\n",
    "|                       | **Customer Experience**                     |\n",
    "|-----------------------|---------------------------------------------|\n",
    "|                       | **Experiential**  <br> Curated ambiance, wellness lifestyle integration, premium sampling events, organic café spaces |\n",
    "| **Product Benefits**  |                                             |\n",
    "| **Brand**             | **Cult Brand Identity** <br> LA status symbol, wellness authority, exclusive product curation |\n",
    "|                       |                                             |\n",
    "| **Low Price**         | Not a focus – premium pricing strategy      |\n",
    "|                       |                                             |\n",
    "| **Frictionless**      | Limited investment here <br> Long checkout lines, complex online interface, boutique feel over convenience |\n",
    "\n",
    "---\n",
    "\n",
    "### **Matrix Summary (with Arrows)**\n",
    "\n",
    "If we plotted Erewhon in the same visual style as Amazon’s version:\n",
    "- Strong arrow pointing toward **Brand** (top-left)\n",
    "- Strong arrow toward **Experiential** (top-right)\n",
    "- Minimal/no arrow toward **Low Price** (bottom-left)\n",
    "- Light or no arrow toward **Frictionless** (bottom-right)\n",
    "\n",
    "Would you like me to generate an actual image of this matrix in the same visual format?"
   ]
  },
  {
   "cell_type": "markdown",
   "id": "cf9765e9-ed24-4d18-b069-562f47db9d45",
   "metadata": {},
   "source": [
    "## 1st Follow up: \n",
    "Can you make the matrix graph itself? this information looks good"
   ]
  },
  {
   "cell_type": "markdown",
   "id": "cf1b80ab-b009-40ae-b372-5f2c7bd35adc",
   "metadata": {},
   "source": [
    "<img src=\"c.png\" width=\"50%\">"
   ]
  },
  {
   "cell_type": "markdown",
   "id": "a74e3fae-8d00-40ba-a07d-6f779fb1f1ae",
   "metadata": {},
   "source": [
    "## 2nd Follow up:\n",
    "can you make it prettier by using Times New Roman font, changing arrows to be longer towards brand and experiential, shorter to low price and frictionless. Also make sure all the words do not cut off and are spelled correctly."
   ]
  },
  {
   "cell_type": "markdown",
   "id": "9400a11c-032e-449d-9fb3-2c077ae6452c",
   "metadata": {},
   "source": [
    "<img src=\"d.png\" width=\"50%\">"
   ]
  },
  {
   "cell_type": "markdown",
   "id": "bd9261b5-8dc6-4468-beb9-246815c4f058",
   "metadata": {},
   "source": [
    "## 3 3rd Follow up:\n",
    "No. 1. Make the background white again. 2. Get rid of the \"Broduct benefits\" \"customer preasure\" and \"elimiate pleasure\" labels. 3. get rid of the 0.0 in the center. 4. make the arrows still go all 4 ways but shorter towards low price and frictionless."
   ]
  },
  {
   "cell_type": "markdown",
   "id": "565e55b0-f90b-46be-833b-3edd3a156f02",
   "metadata": {},
   "source": [
    "<img src=\"e.png\" width=\"50%\">"
   ]
  },
  {
   "cell_type": "markdown",
   "id": "c1b35b58-04ea-4268-8d3d-c1172ba93f5c",
   "metadata": {},
   "source": [
    "## My reflection:\n",
    "\n",
    "As I worked on this marketing presentation, I thought it would be interesting if Chat GPT would be able to take reference photos from our lecture slides and try to reconfigure them to fit Erewhon, which was the company we were doing our final keystone presentation on. After giving it 2 examples, I prompted it to then recreate the Kahn Retailling Matrix with details relevant to Erewhon. Here are what I identified as Strengths and Weaknesses.\n",
    "\n",
    "Strengths:\n",
    "- Super strong capture of Erewhon details and company background\n",
    "- Good wording for powerful impact and concision\n",
    "\n",
    "Weankesses:\n",
    "- Really poor spelling and grammar at some points, evidently not writtten by human - this is interesting given the fact that LLMs are so good at summarizing and writing text when not on a graph, so I'm curious why GPT finds it harder to use good writing style and convention here.\n",
    "- Inability to make edits directly - Even though I prompted GPT several times to do things like change font, change colors, the arrow sizes, add commas, etc., it is not very good at isolating these individual tasks and isntead fixes one problem while creating another.\n",
    "\n",
    "Overall, GPT provided a good starting point, but ultimately I had to make the graphs myself."
   ]
  }
 ],
 "metadata": {
  "citation-manager": {
   "items": {}
  },
  "kernelspec": {
   "display_name": "Python 3 (ipykernel)",
   "language": "python",
   "name": "python3"
  },
  "language_info": {
   "codemirror_mode": {
    "name": "ipython",
    "version": 3
   },
   "file_extension": ".py",
   "mimetype": "text/x-python",
   "name": "python",
   "nbconvert_exporter": "python",
   "pygments_lexer": "ipython3",
   "version": "3.10.12"
  }
 },
 "nbformat": 4,
 "nbformat_minor": 5
}
