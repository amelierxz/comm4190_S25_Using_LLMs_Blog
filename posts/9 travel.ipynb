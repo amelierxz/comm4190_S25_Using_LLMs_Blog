{
 "cells": [
  {
   "cell_type": "raw",
   "id": "bf0ee789-b783-4c23-a9ee-f0835bcc9c67",
   "metadata": {},
   "source": [
    "---\n",
    "title: \"Travel reccomendations\"\n",
    "description: \"Brainstorming with AI\"\n",
    "author: \"An LLM User\"\n",
    "date: \"2/22/2024\"\n",
    "categories:\n",
    "  - LLMs\n",
    "  - travelling\n",
    "---"
   ]
  },
  {
   "cell_type": "markdown",
   "id": "17c5dbf6-c7fd-4165-bc14-adfd7ee7f75d",
   "metadata": {},
   "source": [
    "When figuring out where to go for Spring Break, my friends and I had been staring at a map of the US and Europe trying to figure out where to go together. We had reached a point where we really weren’t sure what we were looking for, so we used AI to narrow down our options. Below, I attached the prompt along with the response we received."
   ]
  },
  {
   "cell_type": "markdown",
   "id": "41532224-7226-42a7-85c6-c89ba0befff3",
   "metadata": {},
   "source": [
    "## Prompt:\n",
    "\n",
    "Please give me beach vacation destinations 6 hours max from nyc, what about things like charleston"
   ]
  },
  {
   "cell_type": "markdown",
   "id": "d3d7d3ba-8b37-459c-a3e7-8efd25a3f8bc",
   "metadata": {},
   "source": [
    "## Response:\n",
    "Yes! **Charleston, South Carolina** is a great option, and there are a few similar beach destinations within a **6-hour flight or drive** from NYC that offer a mix of **historic charm, coastal beauty, and Southern hospitality**. Here are some great alternatives:\n",
    "\n",
    "### **Southern Beach Destinations (Under 6-Hour Flight)**\n",
    "1. **Charleston, SC** (2 hrs by flight) – Historic cobblestone streets, waterfront charm, and nearby **Folly Beach, Isle of Palms, and Sullivan’s Island**.  \n",
    "2. **Savannah, GA** (2.5 hrs by flight) – Similar to Charleston, with historic squares and nearby **Tybee Island** for a laid-back beach escape.  \n",
    "3. **Hilton Head Island, SC** (2.5 hrs by flight) – A mix of luxury resorts, golf courses, and beautiful beaches.  \n",
    "4. **Wilmington, NC** (1.5 hrs by flight) – Historic riverfront city with beaches like **Wrightsville Beach and Carolina Beach**.  \n",
    "5. **Myrtle Beach, SC** (2 hrs by flight) – More touristy, but great for a mix of golf, beaches, and boardwalk fun.  \n",
    "6. **Virginia Beach, VA** (1.5 hrs by flight or 6 hrs drive) – A lively boardwalk scene with miles of sandy shoreline.  \n",
    "\n",
    "If you’re looking for that **Charleston-style charm** with a **beach nearby**, I'd say Charleston, Savannah, or Hilton Head would be your best picks! Let me know if you need help narrowing it down."
   ]
  },
  {
   "cell_type": "markdown",
   "id": "7a30b0dd-a8df-40a6-ba3a-77a59e27f8e0",
   "metadata": {},
   "source": [
    "## Reflection:\n",
    "\n",
    "What was super interesting to me in this interaction was that GPT was able to also extract the flight time from NYC to all of these different destinations. It's reccomendations were quite expected, and the description of each destination also included a decent amount of examples of what to do and specific places within each destination. But I'm curious how it was further able to find the exact flight time from each of these places and find the correct travel time."
   ]
  }
 ],
 "metadata": {
  "kernelspec": {
   "display_name": "Python 3 (ipykernel)",
   "language": "python",
   "name": "python3"
  },
  "language_info": {
   "codemirror_mode": {
    "name": "ipython",
    "version": 3
   },
   "file_extension": ".py",
   "mimetype": "text/x-python",
   "name": "python",
   "nbconvert_exporter": "python",
   "pygments_lexer": "ipython3",
   "version": "3.10.12"
  }
 },
 "nbformat": 4,
 "nbformat_minor": 5
}
