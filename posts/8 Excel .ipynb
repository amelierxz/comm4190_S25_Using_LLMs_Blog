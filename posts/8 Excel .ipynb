{
 "cells": [
  {
   "cell_type": "raw",
   "id": "5c67f48a-7fe6-4e06-bb26-5cf2a4e85abd",
   "metadata": {},
   "source": [
    "---\n",
    "title: \"Chat GPT for Excel\"\n",
    "description: \"Arranging my personal expense of January and February with AI\"\n",
    "author: \"An LLM User\"\n",
    "date: \"3/3/2024\"\n",
    "categories:\n",
    "  - LLMs\n",
    "  - accounting\n",
    "  - Excel\n",
    "---"
   ]
  },
  {
   "cell_type": "markdown",
   "id": "57562118-3ea9-4603-90a8-e2c2aa7aaa42",
   "metadata": {},
   "source": []
  }
 ],
 "metadata": {
  "kernelspec": {
   "display_name": "Python 3 (ipykernel)",
   "language": "python",
   "name": "python3"
  },
  "language_info": {
   "codemirror_mode": {
    "name": "ipython",
    "version": 3
   },
   "file_extension": ".py",
   "mimetype": "text/x-python",
   "name": "python",
   "nbconvert_exporter": "python",
   "pygments_lexer": "ipython3",
   "version": "3.10.12"
  }
 },
 "nbformat": 4,
 "nbformat_minor": 5
}
