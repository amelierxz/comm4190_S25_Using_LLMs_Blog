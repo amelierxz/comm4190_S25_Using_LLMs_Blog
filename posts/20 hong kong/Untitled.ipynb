{
 "cells": [
  {
   "cell_type": "raw",
   "id": "ad1e2460-0227-48c8-8803-8e44e8385bcb",
   "metadata": {},
   "source": [
    "---\n",
    "title: \"Building a Hong Kong itinerary for my friends\"\n",
    "description: \"Two of my friends, Mariana and Eva, are coming to Hong Kong next week, so thought I'd ask GPT what they should do.\"\n",
    "author: \"Amelie Zhang\"\n",
    "date: \"5/7/2025\"\n",
    "categories:\n",
    "  - LLMs\n",
    "  - Hong Kong\n",
    "  - itinerary making\n",
    "---"
   ]
  },
  {
   "cell_type": "markdown",
   "id": "8a7c812d-98db-443b-b4c2-23f14a4207cb",
   "metadata": {},
   "source": [
    "# Original prompt:\n",
    "My friends are visiting me in Hong Kong soon. They are staying for 4 days, and I am trying to show them around. What should our itinerary be?"
   ]
  },
  {
   "cell_type": "markdown",
   "id": "55a246cb-e76d-41db-b785-0cb536c9a916",
   "metadata": {},
   "source": [
    "# First response:\n",
    "That sounds like a fun trip! Here's a suggested 4-day itinerary for showing your friends around Hong Kong:\n",
    "\n",
    "### Day 1: Iconic Hong Kong\n",
    "\n",
    "* **Morning**:\n",
    "\n",
    "  * Visit **Victoria Peak**: Take the Peak Tram for stunning views of the skyline.\n",
    "  * Explore **Sky Terrace 428** for panoramic views of the harbor.\n",
    "* **Lunch**: Enjoy lunch at **The Peak Lookout** or **Mak's Noodle** in Central.\n",
    "* **Afternoon**:\n",
    "\n",
    "  * Head down to **Central** and take a walk through **Lan Kwai Fong** for shopping and the vibrant nightlife scene.\n",
    "  * Visit **Man Mo Temple** in Sheung Wan for a dose of culture.\n",
    "* **Evening**:\n",
    "\n",
    "  * Go to **Tsim Sha Tsui** for the **A Symphony of Lights** show from the waterfront at **Victoria Harbour**.\n",
    "\n",
    "### Day 2: Local Culture and Markets\n",
    "\n",
    "* **Morning**:\n",
    "\n",
    "  * Start with a visit to the **Hong Kong Museum of History** in Tsim Sha Tsui for a deep dive into Hong Kong’s past.\n",
    "* **Lunch**: Try local dim sum at **Tim Ho Wan** or **Maxim's Palace**.\n",
    "* **Afternoon**:\n",
    "\n",
    "  * Explore the bustling **Mong Kok** area: Visit the **Ladies' Market**, **Temple Street Night Market**, and the **Goldfish Market**.\n",
    "  * Stop by **Kowloon Walled City Park** for a relaxing walk.\n",
    "* **Evening**:\n",
    "\n",
    "  * Have dinner at a local seafood restaurant in **Sai Kung** or **Lei Yue Mun** for fresh seafood.\n",
    "\n",
    "### Day 3: Nature and Hiking\n",
    "\n",
    "* **Morning**:\n",
    "\n",
    "  * Go on a hike up to **Dragon’s Back** for some incredible coastal views.\n",
    "  * Visit **Shek O Beach** for some relaxation after the hike.\n",
    "* **Lunch**: Grab lunch at a beachside café or head back to the city for a more diverse option.\n",
    "* **Afternoon**:\n",
    "\n",
    "  * Take the **Star Ferry** to **Hong Kong Island** and visit **Hong Kong Park**.\n",
    "  * Explore the **Hong Kong Zoological and Botanical Gardens** for a peaceful escape.\n",
    "* **Evening**:\n",
    "\n",
    "  * Have a relaxed dinner at **Murray Lane** or **Café Gray Deluxe** for views of the city’s skyline.\n",
    "\n",
    "### Day 4: Lantau Island and Disney\n",
    "\n",
    "* **Morning**:\n",
    "\n",
    "  * Take the MTR to **Tung Chung**, then head to **Ngong Ping 360** for the cable car ride up to **Tian Tan Buddha**.\n",
    "  * Visit the **Po Lin Monastery** and take in the serenity of Lantau Island.\n",
    "* **Lunch**: Try vegetarian dishes at the **Po Lin Monastery** or grab a quick bite at a nearby café.\n",
    "* **Afternoon**:\n",
    "\n",
    "  * Spend the afternoon at **Hong Kong Disneyland** for a bit of fun and magic.\n",
    "* **Evening**:\n",
    "\n",
    "  * End the day with dinner at **Citygate Outlets** or a local restaurant nearby.\n",
    "\n",
    "Feel free to adjust based on your friends' interests!\n"
   ]
  },
  {
   "cell_type": "markdown",
   "id": "501c9b8a-3fb7-49b7-9ec2-5cabb6e7efaa",
   "metadata": {},
   "source": [
    "# Follow Up:\n",
    "Can you give me links to buy tickets/book things?"
   ]
  },
  {
   "cell_type": "markdown",
   "id": "9772f512-2fd5-43e0-a36d-6dcb81e386a8",
   "metadata": {},
   "source": [
    "# Response:\n",
    "\n",
    "Certainly! Here are the official links where you and your friends can purchase tickets for the top attractions in Hong Kong:\n",
    "\n",
    "---\n",
    "\n",
    "### 🏰 **Hong Kong Disneyland**\n",
    "\n",
    "* **Official Website**: [hongkongdisneyland.com](https://www.hongkongdisneyland.com/)\n",
    "* **Ticket Options**: 1-Day Tickets, 2-Day Tickets, Park Hopper, and combo packages.\n",
    "* **Note**: The park features the exclusive \"World of Frozen\" land, the first of its kind in any Disney park worldwide .([The Sun][1])\n",
    "\n",
    "---\n",
    "\n",
    "### 🚠 **Ngong Ping 360 Cable Car**\n",
    "\n",
    "* **Official Website**: [np360.com.hk](https://www.np360.com.hk/en/tickets-promotions/tickets-tours/other-tickets/single-round-trip-cable-car-ticket)\n",
    "* **Ticket Options**: Standard Cabin, Crystal Cabin, and Crystal+ for one-way or round-trip rides.\n",
    "* **Tip**: Purchasing tickets online in advance can help you skip the ticket line .([Ngong Ping 360][2], [Reddit][3])\n",
    "\n",
    "---\n",
    "\n",
    "### 🚋 **Peak Tram & Sky Terrace 428**\n",
    "\n",
    "* **Official Website**: [thepeak.com.hk](https://www.thepeak.com.hk/en/ticket-and-booking/purchase-ticket/peak-tram-sky-pass)\n",
    "* **Ticket Options**: Peak Tram Ruby Special (with priority lane access), Sky Terrace 428 tickets, and combo packages.\n",
    "* **Morning Special Combo Ticket**: Offers a 25% discount for visits before 10:30 AM .\n",
    "\n",
    "---\n",
    "\n",
    "### ⛴️ **Star Ferry**\n",
    "\n",
    "* **Official Website**: [starferry.com.hk](https://www.starferry.com.hk/en/service)\n",
    "* **Ticket Options**: Regular single fares and 4-Day Tourist Tickets for unlimited rides on Central–Tsim Sha Tsui and Wan Chai–Tsim Sha Tsui routes.\n",
    "* **Note**: Tickets can be purchased at the ferry piers.\n",
    "\n",
    "---\n",
    "\n",
    "### 🏛️ **Hong Kong Museum of History**\n",
    "\n",
    "* **Official Website**: [hk.history.museum](https://hk.history.museum/en/web/mh/plan-your-visit/admission.html)\n",
    "* **Admission**: Free for the permanent exhibition \"The Hong Kong Story\".\n",
    "* **Special Exhibitions**: May have separate admission fees.([Hong Kong Museum of History][4], [Hong Kong Cheapo][5])\n",
    "\n",
    "---\n",
    "\n",
    "### 🌿 **Hong Kong Zoological and Botanical Gardens**\n",
    "\n",
    "* **Official Website**: [hkzbg.gov.hk](https://www.hkzbg.gov.hk/en/visitPage.html)\n",
    "* **Admission**: Free.\n",
    "* **Highlights**: Home to a variety of plants, birds, and mammals, offering a peaceful retreat in the city.([hkzbg.gov.hk][6], [Holidify][7], [Visit Our China][8])\n",
    "\n",
    "---\n",
    "\n",
    "If you need assistance with transportation options, restaurant recommendations, or any other details to enhance your itinerary, feel free to ask!"
   ]
  },
  {
   "cell_type": "markdown",
   "id": "f607e851-3ded-4bcc-8868-5d398a638f58",
   "metadata": {},
   "source": [
    "# Visual graphic:\n",
    "<img src=\"a.png\" width=\"50%\">"
   ]
  },
  {
   "cell_type": "markdown",
   "id": "dac6b6fb-d928-42fd-8877-a5f2839d3b48",
   "metadata": {},
   "source": [
    "# Getting a graphic with a map:\n",
    "<img src=\"b.png\" width=\"50%\">"
   ]
  },
  {
   "cell_type": "markdown",
   "id": "ebeb2793-1a8f-4a74-b77f-724684c330c0",
   "metadata": {},
   "source": [
    "# Reflection:\n",
    "These suggestions were quite basic, but honestly great to be all together. I'll keep these in mind as my friends Mariana and Eva come visit Hong Kong next week! \n",
    "\n",
    "One issue is the spelling of words in these graphics, since they mix up Hong Kong into Honkongg, as well as Kowloon into Kouloun, and Tung Chung to Tung ung.\n",
    "\n",
    "This post was also inspired by Sose and her London itinerary."
   ]
  }
 ],
 "metadata": {
  "kernelspec": {
   "display_name": "Python 3 (ipykernel)",
   "language": "python",
   "name": "python3"
  },
  "language_info": {
   "codemirror_mode": {
    "name": "ipython",
    "version": 3
   },
   "file_extension": ".py",
   "mimetype": "text/x-python",
   "name": "python",
   "nbconvert_exporter": "python",
   "pygments_lexer": "ipython3",
   "version": "3.10.12"
  }
 },
 "nbformat": 4,
 "nbformat_minor": 5
}
