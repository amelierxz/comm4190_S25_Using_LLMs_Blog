{
 "cells": [
  {
   "cell_type": "raw",
   "id": "79e9f6e3-001f-4afa-ae03-35555f23e5d9",
   "metadata": {},
   "source": [
    "---\n",
    "title: \"Can GPT build IS-LM models for a Finance project?\"\n",
    "description: \"Trying to use GPT to turn sketches of graphs into reality\"\n",
    "author: \"An LLM User\"\n",
    "date: \"4/12/2024\"\n",
    "categories:\n",
    "  - LLMs\n",
    "  - finance\n",
    "  - chart making\n",
    "\n",
    "---"
   ]
  },
  {
   "cell_type": "markdown",
   "id": "b007267c-b773-40ab-891e-0d968bb4f848",
   "metadata": {},
   "source": [
    "## Prompt:\n",
    "Please try to take these IS-LM models that we've been describing and turn them into well labeled graphs. I have attached drawings for your reference"
   ]
  },
  {
   "cell_type": "markdown",
   "id": "4de4ded8-2b9a-4cea-9f3b-89eb91cd06c9",
   "metadata": {},
   "source": [
    "<img src=\"a.jpeg\" width=\"50%\">"
   ]
  },
  {
   "cell_type": "markdown",
   "id": "d5d817dd-f491-439f-9479-27b0cfccbd23",
   "metadata": {},
   "source": [
    "# GPT First response:\n",
    "Here are three well-labeled IS-LM diagrams representing your original sketches:\n",
    "\n",
    "Graph 1 (Top):\n",
    "Red IS curve shifts left: Represents a contractionary fiscal shock (e.g. reduced government spending or increased taxes).\n",
    "\n",
    "New equilibrium is to the left of FE, showing underemployment.\n",
    "\n",
    "Graph 2 (Middle):\n",
    "Red IS curve shifts left, again from a contraction.\n",
    "\n",
    "Blue LM curve shifts right: Expansionary monetary policy (e.g. increase in money supply or lower interest rates).\n",
    "\n",
    "Result: Restores equilibrium closer to FE, softening the contraction’s impact.\n",
    "\n",
    "Graph 3 (Bottom):\n",
    "IS curve shifts left, LM shifts right, and FE shifts right: Full employment level increases (perhaps due to long-term structural reforms or productivity gains).\n",
    "\n",
    "This shows a more dynamic long-term recovery scenario with both demand-side and supply-side shifts.\n",
    "\n",
    "Let me know if you'd like the axis labeled with income (Y) and interest rate (i), or any color tweaks!"
   ]
  },
  {
   "cell_type": "markdown",
   "id": "8c7ed91d-fc46-4a39-9f05-da956ce3a67c",
   "metadata": {},
   "source": [
    "\n",
    "<img src=\"b.png\" width=\"50%\">"
   ]
  },
  {
   "cell_type": "markdown",
   "id": "cf9765e9-ed24-4d18-b069-562f47db9d45",
   "metadata": {},
   "source": [
    "## 1st Follow up: \n",
    "This does not look right. I want labels like this with arrows of the shifts."
   ]
  },
  {
   "cell_type": "markdown",
   "id": "cf1b80ab-b009-40ae-b372-5f2c7bd35adc",
   "metadata": {},
   "source": [
    "<img src=\"c.png\" width=\"50%\">"
   ]
  },
  {
   "cell_type": "markdown",
   "id": "a74e3fae-8d00-40ba-a07d-6f779fb1f1ae",
   "metadata": {},
   "source": [
    "## GPT's 2nd try:\n",
    "Here’s a cleaner and labeled IS-LM graph that mirrors the style you showed in the example:\n",
    "\n",
    "Features:\n",
    "IS shifts left (red dashed) — contractionary fiscal policy or drop in confidence.\n",
    "\n",
    "LM shifts right (blue dashed) — expansionary monetary policy (e.g. lower interest rates or increased money supply).\n",
    "\n",
    "FE shifts right (blue dashed vertical line) — increase in potential output (e.g. structural reforms, labor market improvements).\n",
    "\n",
    "Initial GE: Black dot.\n",
    "\n",
    "New GE: Red dot after the shifts.\n",
    "\n",
    "Arrow annotations explain the directional movements.\n",
    "\n",
    "Would you like this exported as a high-resolution image or incorporated into a slide/report template?"
   ]
  },
  {
   "cell_type": "markdown",
   "id": "9400a11c-032e-449d-9fb3-2c077ae6452c",
   "metadata": {},
   "source": [
    "<img src=\"d.png\" width=\"50%\">"
   ]
  },
  {
   "cell_type": "markdown",
   "id": "c1b35b58-04ea-4268-8d3d-c1172ba93f5c",
   "metadata": {},
   "source": [
    "## My reflection:\n",
    "\n",
    "This was a bit of a frustrating conversation. Even though one of my teammates had warned me that GPT was not good at building these graphs, I wanted to see if it could adapt givem my sketches and try to formulate the correct output. In the end, this proved really unfruitfall, and I think in general my reflection here is that GPT is not very good with adapting to spatial differences and doing things like drawing graphs. On the opposite side of visualizations, GPT is great at making types of data charts because that is a system that is very reliant on coding and can be easily done through Python. As such, until LLMs develop further, I would advise to steer clear of using them to make any type of visualization."
   ]
  }
 ],
 "metadata": {
  "citation-manager": {
   "items": {}
  },
  "kernelspec": {
   "display_name": "Python 3 (ipykernel)",
   "language": "python",
   "name": "python3"
  },
  "language_info": {
   "codemirror_mode": {
    "name": "ipython",
    "version": 3
   },
   "file_extension": ".py",
   "mimetype": "text/x-python",
   "name": "python",
   "nbconvert_exporter": "python",
   "pygments_lexer": "ipython3",
   "version": "3.10.12"
  }
 },
 "nbformat": 4,
 "nbformat_minor": 5
}
