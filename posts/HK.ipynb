{
 "cells": [
  {
   "cell_type": "raw",
   "id": "a907f6c5-763b-42b0-8b53-f452cfbb951e",
   "metadata": {},
   "source": [
    "---\n",
    "title: \"My expertise: Hong Kong\"\n",
    "description: \"Best city\"\n",
    "author: \"An LLM User\"\n",
    "date: \"2/12/2024\"\n",
    "categories:\n",
    "  - LLMs\n",
    "  - in class\n",
    "---"
   ]
  },
  {
   "cell_type": "markdown",
   "id": "07d7bc2f-e806-4eaf-b073-8e1592186302",
   "metadata": {},
   "source": []
  }
 ],
 "metadata": {
  "kernelspec": {
   "display_name": "Python 3 (ipykernel)",
   "language": "python",
   "name": "python3"
  },
  "language_info": {
   "codemirror_mode": {
    "name": "ipython",
    "version": 3
   },
   "file_extension": ".py",
   "mimetype": "text/x-python",
   "name": "python",
   "nbconvert_exporter": "python",
   "pygments_lexer": "ipython3",
   "version": "3.10.12"
  }
 },
 "nbformat": 4,
 "nbformat_minor": 5
}
