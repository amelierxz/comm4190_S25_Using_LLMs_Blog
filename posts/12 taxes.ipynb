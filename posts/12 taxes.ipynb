{
 "cells": [
  {
   "cell_type": "raw",
   "id": "d03c125d-70de-4c2b-a262-09a35c1f1dcf",
   "metadata": {},
   "source": [
    "---\n",
    "title: \"Using GPT to Compare NYC and LA tax structures\"\n",
    "description: \"Curious about this question but a bit too lazy to Google ...\"\n",
    "author: \"Amelie Zhang\"\n",
    "date: \"3/14/2025\"\n",
    "categories:\n",
    "  - LLMs\n",
    "  - taxes\n",
    "  - prompting\n",
    "---"
   ]
  },
  {
   "cell_type": "markdown",
   "id": "85977ab3-af3f-4814-aa86-e91b29bbba3c",
   "metadata": {},
   "source": [
    "As people do on a Thursday evening, I ended up in a conversation with my friend about how living in different cities post grad would affect our income tax structures and the way we should think about these differences going forward.\n",
    "\n",
    "Thus, instead of doing the reasonable thing and going on state websites to find the facts straight from the source, we used GPT to try to understand the differences between NYC and LA. Here is what we found:"
   ]
  },
  {
   "cell_type": "markdown",
   "id": "aac9fa63-f278-4259-a40b-952186e242f7",
   "metadata": {},
   "source": [
    "## GPT response:\n",
    "\n",
    "New York City (NYC) and Los Angeles (LA) have different tax structures due to state and local tax policies. Here's a comparison:\n",
    "\n",
    "### **State Income Tax**  \n",
    "- **New York State**: Progressive tax rates from **4% to 10.9%**.  \n",
    "- **California**: Progressive tax rates from **1% to 13.3%** (highest in the U.S.).\n",
    "\n",
    "### **City Income Tax**  \n",
    "- **NYC**: Has its own city income tax, ranging from **3.078% to 3.876%** on top of state tax.  \n",
    "- **LA**: No city income tax.\n",
    "\n",
    "### **Effective Tax Burden** (State + City)  \n",
    "- **NYC Residents**: Pay both state and city taxes, making their top combined rate **up to 14.776%**.  \n",
    "- **LA Residents**: Pay only state tax, with a top rate of **13.3%**.\n",
    "\n",
    "### **Other Considerations**  \n",
    "- **Sales Tax**:  \n",
    "  - NYC: **8.875%** (state + local)  \n",
    "  - LA: **9.5%**  \n",
    "- **Cost of Living**: Both cities are expensive, but NYC has higher rent, while LA has higher transportation costs.  \n",
    "- **Deductions**: California has more favorable tax deductions in some areas, like capital gains.  \n",
    "\n",
    "### **Overall**  \n",
    "If you're a **high earner**, NYC generally has a slightly higher tax burden due to its city tax. If you're middle-income, the difference is smaller, but California's progressive system can result in a higher rate at the top brackets."
   ]
  },
  {
   "cell_type": "markdown",
   "id": "ecf43792-3f7a-4c9b-b51f-b6041a9fa158",
   "metadata": {},
   "source": [
    "# Reflection:\n",
    "I was honestly pretty satisfied with the LLM response. Instead of having to look through multiple websites, having this information all in the same place really simplified my process and allowed me to just be one and done with my search queries. Further, I can see how saving this time could be really crucial when in a time crunch, potentially whether it be for something at work or just for fun in a debate."
   ]
  }
 ],
 "metadata": {
  "citation-manager": {
   "items": {}
  },
  "kernelspec": {
   "display_name": "Python 3 (ipykernel)",
   "language": "python",
   "name": "python3"
  },
  "language_info": {
   "codemirror_mode": {
    "name": "ipython",
    "version": 3
   },
   "file_extension": ".py",
   "mimetype": "text/x-python",
   "name": "python",
   "nbconvert_exporter": "python",
   "pygments_lexer": "ipython3",
   "version": "3.10.12"
  }
 },
 "nbformat": 4,
 "nbformat_minor": 5
}
