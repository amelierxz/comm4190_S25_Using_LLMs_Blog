{
 "cells": [
  {
   "cell_type": "raw",
   "id": "419ac95b-6246-41f5-b418-2a1a5735df27",
   "metadata": {},
   "source": [
    "---\n",
    "title: \"Another logic problem: This time focusing on math\"\n",
    "description: \"Would AI be more well versed in terms of mathematical knowledge vs. just word problems?\"\n",
    "author: \"Amelie Zhang\"\n",
    "date: \"2/3/2025\"\n",
    "categories:\n",
    "  - LLMs\n",
    "  - prompting\n",
    "  - logic\n",
    "\n",
    "---"
   ]
  },
  {
   "cell_type": "markdown",
   "id": "414e6cc5-605a-40ca-9036-f9462a5a9fbf",
   "metadata": {},
   "source": [
    "Following down the rabbit hole niche of having AI create logic problems for me, I wanted to move away from just logical problems and see if it would be able to tackle quantitative problems as well. Thus, I repeated my prompting to get GPT to give me a numerical pattern problem, and again put it through different AI models to see if it would be able to solve them.\n",
    "\n",
    "Compared to the logic problem, I found that this mathematical equation somehow was so much easier for humans, because we don't neccesarily process information bit by bit, compared to the LLM which literally generates its output building on each last letter. As such, I was interested to also dig deeper into the different thought processes the models would use."
   ]
  },
  {
   "cell_type": "markdown",
   "id": "9dd965b3-953b-47de-9529-61457f8f4690",
   "metadata": {},
   "source": [
    "# The Missing Number\n",
    "A teacher writes five numbers on the board:\n",
    "\n",
    "3, 5, 9, 17, ?\n",
    "\n",
    "She tells her students that the pattern follows a logical rule.\n",
    "\n",
    "What number should replace the question mark (?) in the sequence?\n",
    "\n",
    "Can you figure it out? "
   ]
  },
  {
   "cell_type": "markdown",
   "id": "5db4a490-e67c-4232-a5f5-300b28bf3b21",
   "metadata": {},
   "source": [
    "## Solving the Pattern manually\n",
    "To determine the missing number, let’s analyze the pattern in the sequence:\n",
    "\n",
    "3, 5, 9, 17, ?\n",
    "\n",
    "We examine the differences between consecutive terms:\n",
    "\n",
    "5 − 3 = 2\n",
    "\n",
    "9 - 5 = 4\n",
    "\n",
    "17 − 9 = 8\n",
    "\n",
    "This gives us the difference sequence:\n",
    "\n",
    "2, 4, 8\n",
    "\n",
    "Observing this pattern, we see that each difference doubles the previous one:\n",
    "\n",
    "2\n",
    ",\n",
    "4\n",
    ",\n",
    "8\n",
    ",\n",
    "16\n",
    "\n",
    "Following this doubling pattern, the next difference should be 16.\n",
    "\n",
    "Thus, the missing number in the sequence is:\n",
    "\n",
    "17+16=33\n",
    "### Answer: 33\n"
   ]
  },
  {
   "cell_type": "markdown",
   "id": "222cfbf0-7a25-4c3b-b341-d1a7eab3644d",
   "metadata": {},
   "source": [
    "# How LLMs Solve the Problem\n",
    "## GPT-4o’s Approach\n",
    "GPT-4o follows a structured method to detect numerical patterns. It:\n",
    "\n",
    "Identifies the differences between terms.\n",
    "Recognizes a doubling pattern in these differences.\n",
    "Extends the pattern logically to predict the next term.\n",
    "Computes the missing number using the established rule.\n",
    "📌 GPT-4o’s Answer: 33.\n",
    "\n",
    "## GPT-4o1’s Approach\n",
    "GPT-4o1 arrives at the same conclusion using a similar approach:\n",
    "\n",
    "It calculates the first-order differences: 2, 4, 8.\n",
    "It recognizes that each difference is doubling.\n",
    "It predicts the next difference as 16.\n",
    "It adds 16 to the last number (17) to find 33.\n",
    "📌 GPT-4o1’s Answer: 33.\n",
    "\n",
    "\n",
    "## Perplexity's Approach\n",
    "The number that should replace the question mark (?) in the sequence 3, 5, 9, 17, ? is 33.\n",
    "\n",
    "To understand this, let's examine the pattern:\n",
    "\n",
    "First, we calculate the differences between consecutive terms:\n",
    "\n",
    "5 - 3 = 2\n",
    "\n",
    "9 - 5 = 4\n",
    "\n",
    "17 - 9 = 8\n",
    "\n",
    "We can observe that these differences are doubling each time:\n",
    "\n",
    "2 → 4 (2 × 2)\n",
    "\n",
    "4 → 8 (4 × 2)\n",
    "\n",
    "Following this pattern, the next difference would be:\n",
    "\n",
    "8 → 16 (8 × 2)\n",
    "\n",
    "To find the missing number, we add this new difference to the last known term:\n",
    "\n",
    "17 + 16 = 33\n",
    "\n",
    "Therefore, the logical rule for this sequence is that the difference between each consecutive term doubles, and the missing number that completes the pattern is 33."
   ]
  },
  {
   "cell_type": "markdown",
   "id": "85dc3391-0fbe-4daa-a4f2-52910a1af4ba",
   "metadata": {},
   "source": [
    "# Analysis of LLM Performance\n",
    "All models correctly identify the exponential growth pattern in the differences and use it to compute the missing number.\n",
    "\n",
    "This showcases LLMs' ability to:\n",
    "\n",
    "Recognize numerical sequences.\n",
    "Infer patterns in arithmetic progressions.\n",
    "Generalize rules and apply them consistently.\n",
    "However, what if the sequence was slightly altered? Would LLMs still recognize the pattern, or would they misinterpret it?\n",
    "\n",
    "We could explore this by testing variations, such as:\n",
    "\n",
    "Adding noise to the sequence.\n",
    "Using non-linear progressions.\n",
    "Introducing misleading elements."
   ]
  },
  {
   "cell_type": "markdown",
   "id": "1d1fdbd6-76c1-4748-a403-f5bc24f37590",
   "metadata": {},
   "source": [
    "## Reflection:\n",
    "This was my second time using AI to tackle a logic-based challenge, but this time I shifted my focus to a numerical question instead of a purely logical one. Once again, I was amazed by the AI's ability to uncover the underlying patterns in the problem and reach the same conclusion I did. Its quick ability for recognizing structure and efficiently following logical sequences was really clear, sparking my curiosity about how AI processes various types of information.\n",
    "\n",
    "What I find especially intriguing is the difference between AI’s strengths and weaknesses. While it excelled in this more complex, structured task, we've also observed it struggling with simpler problems, like counting the number of ‘r’s in the word “strawberry\" as we spoke about earlier this semester. This disparity raises interesting questions about how AI interprets information and where its limitations might be. It seems that AI thrives when it operates within a clearly defined framework, particularly when dealing with numerical or pattern-based reasoning. However, it tends to fail and struggle with tasks that require more flexible cognitive skills, such as  interpretation, contextual understanding, or  ambiguities in language."
   ]
  }
 ],
 "metadata": {
  "kernelspec": {
   "display_name": "Python 3 (ipykernel)",
   "language": "python",
   "name": "python3"
  },
  "language_info": {
   "codemirror_mode": {
    "name": "ipython",
    "version": 3
   },
   "file_extension": ".py",
   "mimetype": "text/x-python",
   "name": "python",
   "nbconvert_exporter": "python",
   "pygments_lexer": "ipython3",
   "version": "3.10.12"
  }
 },
 "nbformat": 4,
 "nbformat_minor": 5
}
