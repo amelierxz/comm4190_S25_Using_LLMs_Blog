{
 "cells": [
  {
   "cell_type": "raw",
   "id": "5c67f48a-7fe6-4e06-bb26-5cf2a4e85abd",
   "metadata": {},
   "source": [
    "---\n",
    "title: \"Sixers graphic\"\n",
    "description: \"Inspired by in class activity of Public Health PSA and going to a Sixers game last week\"\n",
    "author: \"An LLM User\"\n",
    "date: \"3/3/2024\"\n",
    "categories:\n",
    "  - LLMs\n",
    "  - image creation\n",
    "  - sports\n",
    "---"
   ]
  },
  {
   "cell_type": "markdown",
   "id": "20772b86-1740-4e79-bd10-6aee62ee5e4c",
   "metadata": {},
   "source": [
    "## Intro:\n",
    "\n",
    "Last Monday, we attempted to use different LLM models in class to make public health posters that raised awareness about bikers going down the wrong lane outside of the Annenberg Center. In this, we saw how different prompting and models created a large amount of disparity in terms of the final output. As such, I wanted to dig deeper into the different image generation capabilites these models had, and I had the idea of creating images for promotional materials for the 76ers, since I had just attended their game that night as well. I tried to formulate one solid prompt that I could use across all the models for consistency, but this was hard because I experimented with the levels of detail that I included like the name of the team, their colors, the Wells Fargo stadium, specific players, etc."
   ]
  },
  {
   "cell_type": "markdown",
   "id": "99395025-8cef-4cd4-b8e7-4720e13fb4e2",
   "metadata": {},
   "source": [
    "## My prompt:\n",
    "Create a high-energy promotional image for the Philadelphia 76ers, capturing the excitement of a live game at the Wells Fargo Center. The scene should feature the team's signature colors—red, white, and blue—vividly displayed in the arena, jerseys, and lighting effects. The composition should emphasize the intensity of the game, with dynamic action shots of players (without specific likenesses) making a slam dunk, celebrating a three-pointer, or engaging with the crowd. The background should include the electrifying atmosphere of a packed stadium, with fans cheering and waving banners. The overall style should be bold, modern, and suitable for use in official marketing materials"
   ]
  },
  {
   "cell_type": "code",
   "execution_count": 9,
   "id": "20045c1d-f733-4495-8ef3-f8cf3b8addef",
   "metadata": {},
   "outputs": [
    {
     "ename": "SyntaxError",
     "evalue": "invalid syntax (2557873401.py, line 1)",
     "output_type": "error",
     "traceback": [
      "\u001b[0;36m  Cell \u001b[0;32mIn[9], line 1\u001b[0;36m\u001b[0m\n\u001b[0;31m    img src=\"./sixers1.png\" width=\"50%\"/\u001b[0m\n\u001b[0m        ^\u001b[0m\n\u001b[0;31mSyntaxError\u001b[0m\u001b[0;31m:\u001b[0m invalid syntax\n"
     ]
    }
   ],
   "source": [
    "img src=\"./sixers1.png\" width=\"50%\"/"
   ]
  },
  {
   "cell_type": "code",
   "execution_count": null,
   "id": "40a46e64-a24d-4954-b773-df7cda5101b6",
   "metadata": {},
   "outputs": [],
   "source": [
    "img src=\"./sixers1.png\" width=\"50%\"/"
   ]
  },
  {
   "cell_type": "markdown",
   "id": "8bac88e2-9fc5-4e41-9646-efbf6afa5a9c",
   "metadata": {},
   "source": [
    "## Perplexity:\n",
    "\n",
    "I apologize, but I am not able to create, generate, edit, manipulate or produce images. As an AI language model, I can only perceive and analyze existing images, not create new ones.\n",
    "\n",
    "However, I can provide a detailed description of how such a promotional image for the Philadelphia 76ers could be designed based on your specifications:\n",
    "\n",
    "The image would feature a dynamic composition centered on a Philadelphia 76ers player executing a powerful slam dunk. The player, rendered in silhouette to avoid likeness issues, would be depicted mid-air with arms extended towards the hoop, creating a sense of explosive energy."
   ]
  },
  {
   "cell_type": "markdown",
   "id": "30b1df17-3e94-4822-af01-038ac5cc7558",
   "metadata": {},
   "source": [
    "## Reflection:"
   ]
  },
  {
   "cell_type": "markdown",
   "id": "b2055547-85f8-4f0f-bad0-0de7148f417d",
   "metadata": {},
   "source": [
    "Here, Gemini and Chat GPT 4o used really different approaches to analyze the given prompt, since GPT used a style that leans much closer to illustration and even cartoons, compared to Gemini, which was more realistic and closer to a picture taken courtside. However, some commonalities betweeen the two images were that the red and blue colors as well as the 76ers logos were super close to what they look like in real life, and I'm assuming this is because both models were able to absorb a lot of information from the internet and examples to make sure that the actual final products looked really realistic."
   ]
  }
 ],
 "metadata": {
  "kernelspec": {
   "display_name": "Python 3 (ipykernel)",
   "language": "python",
   "name": "python3"
  },
  "language_info": {
   "codemirror_mode": {
    "name": "ipython",
    "version": 3
   },
   "file_extension": ".py",
   "mimetype": "text/x-python",
   "name": "python",
   "nbconvert_exporter": "python",
   "pygments_lexer": "ipython3",
   "version": "3.10.12"
  }
 },
 "nbformat": 4,
 "nbformat_minor": 5
}
