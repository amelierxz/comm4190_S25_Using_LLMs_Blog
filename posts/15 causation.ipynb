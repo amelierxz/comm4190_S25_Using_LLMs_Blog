{
 "cells": [
  {
   "cell_type": "raw",
   "id": "039d7080-7bcb-4a6d-b4d3-ebb19ef01116",
   "metadata": {},
   "source": [
    "---\n",
    "title: \"Explaining Correlation does not equal Causation: 5 levels\"\n",
    "description: \"Can AI adapt its tone and language to fit different levels?\"\n",
    "author: \"An LLM User\"\n",
    "date: \"4/4/2024\"\n",
    "categories:\n",
    "  - LLMs\n",
    "  - teaching\n",
    "  - prompting\n",
    "---"
   ]
  },
  {
   "cell_type": "markdown",
   "id": "915d7fca-e5ef-468f-af7d-fbdac963bba8",
   "metadata": {},
   "source": [
    "## Prompt:\n",
    "Please explain the concept of correlation not causation at 5 levels: kindergartener, middle school, high school, college, and PHD"
   ]
  },
  {
   "cell_type": "markdown",
   "id": "6e1ead40-37ad-48f8-a6f0-146fc50378a7",
   "metadata": {},
   "source": [
    "🎨 Kindergartener:\n",
    "Just because two things happen at the same time doesn’t mean one caused the other.\n",
    "Like, if you wear your lucky socks and then win a game, it doesn’t mean the socks made you win — it might just be a fun coincidence!\n",
    "\n",
    "🧠 Middle School:\n",
    "Sometimes two things happen together a lot — like people eating more ice cream when it’s hot outside. That doesn’t mean ice cream makes it hot!\n",
    "They’re connected (that’s called correlation), but the real reason is something else (like summer weather).\n",
    "So, just because two things are linked, doesn’t mean one causes the other.\n",
    "\n",
    "🏫 High School:\n",
    "“Correlation” means two variables change together — when one goes up or down, the other might too. But that doesn't mean one is causing the change.\n",
    "For example, there might be a strong correlation between how many people swim and how many people get sunburned. But swimming doesn’t cause sunburn — the sun does.\n",
    "A third factor can cause both. That’s why we say: “Correlation does not imply causation.”\n",
    "\n",
    "🎓 College:\n",
    "Correlation measures the strength of a linear relationship between two variables. It’s a statistical association, not a proof of causality.\n",
    "To establish causation, you need more — like controlling for confounding variables, establishing temporal precedence (cause happens before effect), and ruling out other explanations.\n",
    "Failing to distinguish correlation from causation can lead to false conclusions in research.\n",
    "\n",
    "🎓🧠 PhD Level:\n",
    "Correlation quantifies the degree to which two variables co-vary, often measured by Pearson’s r. However, without rigorous design (e.g., randomized controlled trials, instrumental variable analysis, or longitudinal studies), inferring causality is fallacious.\n",
    "Confounders, reverse causality, and spurious relationships undermine naive causal claims. Granger causality, structural equation modeling, and counterfactual frameworks (e.g., Rubin Causal Model) offer formal tools to assess causation beyond mere association."
   ]
  },
  {
   "cell_type": "markdown",
   "id": "38047423-aaf6-4409-ab72-72c19d314f70",
   "metadata": {},
   "source": [
    "## Adding examples to each level:"
   ]
  },
  {
   "cell_type": "markdown",
   "id": "6eb37a1f-42a2-469e-bafb-5569a871e988",
   "metadata": {},
   "source": [
    "🎨 Kindergartener\n",
    "Explanation: Just because two things happen together doesn’t mean one makes the other happen.\n",
    "Example:\n",
    "Every time you hear the ice cream truck song, you get excited — and it’s sunny.\n",
    "But the music doesn’t cause the sun to shine — they just happen at the same time!\n",
    "\n",
    "🧠 Middle School\n",
    "Explanation: Two things might happen together, but one might not cause the other. Something else might be behind both.\n",
    "Example:\n",
    "When there are more people at the beach, there are more shark attacks.\n",
    "But that doesn’t mean people cause sharks to attack — it’s just that more people swimming gives sharks more chances.\n",
    "\n",
    "🏫 High School\n",
    "Explanation: Just because two variables are correlated doesn’t mean one causes the other.\n",
    "Example:\n",
    "Schools with more students tend to have more teachers.\n",
    "That doesn’t mean having more teachers causes more students — it’s that bigger schools need more of both. The school size is a third factor.\n",
    "\n",
    "🎓 College\n",
    "Explanation: Correlation can signal a relationship, but causation requires ruling out other explanations.\n",
    "Example:\n",
    "Studies show a strong correlation between coffee consumption and better test scores.\n",
    "But maybe coffee drinkers tend to be more focused students to begin with, or maybe they study more — so the coffee itself isn’t necessarily the cause.\n",
    "\n",
    "🎓🧠 PhD Level\n",
    "Explanation: Observing a statistical correlation between variables without experimental or quasi-experimental control cannot support causal inference.\n",
    "Example:\n",
    "A dataset shows a positive correlation between ice cream sales and crime rates.\n",
    "Causation cannot be inferred due to likely confounding — e.g., heat increases both ice cream sales and outdoor activity, which can lead to more crimes.\n",
    "Only through controlling for seasonal effects and other covariates, or using methods like fixed effects or instrumental variables, could we begin to explore causal claims.\n",
    "\n"
   ]
  },
  {
   "cell_type": "markdown",
   "id": "37c389c3-b691-4507-b433-ec28943ed8be",
   "metadata": {},
   "source": [
    "## For fun: real life examples / \"Want to go even nerdier with some funny/spurious real-world correlations?\""
   ]
  },
  {
   "cell_type": "markdown",
   "id": "9e790583-c204-4c13-b2e6-d818a898540b",
   "metadata": {},
   "source": [
    "😆 Funny (but meaningless) correlations:\n",
    "U.S. spending on science, space, and technology\n",
    "📈 correlates with\n",
    "➕ Suicides by hanging, strangulation, and suffocation\n",
    "(Correlation: ~99%)\n",
    "\n",
    "Per capita cheese consumption\n",
    "📈 correlates with\n",
    "➕ Number of people who died by becoming tangled in their bedsheets\n",
    "(Correlation: ~94%)\n",
    "\n",
    "Number of letters in winning word of the Scripps National Spelling Bee\n",
    "📈 correlates with\n",
    "➕ Number of people killed by venomous spiders\n",
    "(Correlation: high, disturbingly)\n",
    "\n",
    "Age of Miss America\n",
    "📈 correlates with\n",
    "➕ Murders by steam, hot vapors, and hot objects\n",
    "(… what??)\n",
    "\n",
    "Nicholas Cage movies released in a year\n",
    "📈 correlates with\n",
    "➕ People who drowned in swimming pools\n",
    "(This one’s a classic.)\n",
    "\n"
   ]
  }
 ],
 "metadata": {
  "citation-manager": {
   "items": {}
  },
  "kernelspec": {
   "display_name": "Python 3 (ipykernel)",
   "language": "python",
   "name": "python3"
  },
  "language_info": {
   "codemirror_mode": {
    "name": "ipython",
    "version": 3
   },
   "file_extension": ".py",
   "mimetype": "text/x-python",
   "name": "python",
   "nbconvert_exporter": "python",
   "pygments_lexer": "ipython3",
   "version": "3.10.12"
  }
 },
 "nbformat": 4,
 "nbformat_minor": 5
}
