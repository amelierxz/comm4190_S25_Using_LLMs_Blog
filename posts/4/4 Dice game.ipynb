{
 "cells": [
  {
   "cell_type": "raw",
   "id": "fa4593da-a1a6-42a2-bb0d-78cf7d8346d8",
   "metadata": {},
   "source": [
    "---\n",
    "title: \"Game theory problem: Let's make this a bit more complicated\"\n",
    "description: \"Inspired by my statistics class where we used code and permutations of the same event over and over again to find probabilities, let's see how AI does.\"\n",
    "author: \"Amelie Zhang\"\n",
    "date: \"2/7/2025\"\n",
    "categories:\n",
    "  - LLMs\n",
    "  - game theory\n",
    "  - logic\n",
    "---"
   ]
  },
  {
   "cell_type": "markdown",
   "id": "a6bb53af-9e69-47e0-a42a-1f536f756bbc",
   "metadata": {},
   "source": [
    "## The Optimal Dice Game: How Much Should You Pay to Play?\n",
    "\n",
    "Imagine a simple gambling game where you roll a six-sided die and win the dollar amount that appears on the die. However, you have a strategic advantage: after rolling, you can either keep the result or choose to reroll. If you reroll, you must take the second roll’s value. How much would you pay to play such a game? And what if you had the option to roll a third time?"
   ]
  },
  {
   "cell_type": "markdown",
   "id": "4aea001e-115e-4ad4-8186-ac2daf6c8f23",
   "metadata": {},
   "source": [
    "\n",
    "### **GPT 4 response: Breaking Down the Strategy **\n",
    "This problem is a great example of an **optimal stopping problem** in probability theory. The goal is to maximize the expected payout by deciding when to stop rolling.\n",
    "\n",
    "#### **Step 1: A Single Roll Without Rerolls**\n",
    "If you could roll only once, the expected value (EV) of the game is simply the average outcome of rolling a fair six-sided die:\n",
    "EV=1+2+3+4+5+66=3.5 EV = \\frac{1+2+3+4+5+6}{6} = 3.5 \n",
    "A rational investor would thus pay at most **$3.50** to play the game if no rerolls were allowed.\n",
    "\n",
    "#### **Step 2: Adding One Reroll**\n",
    "With one reroll option, the strategy changes: we should keep the first roll only if it is sufficiently high; otherwise, we should reroll.\n",
    "\n",
    "If the first roll is **less than the expected value of rolling once (3.5)**, rerolling is the better option. Since dice rolls are discrete, we reroll when the first roll is **1, 2, or 3** and keep it otherwise.\n",
    "\n",
    "By calculating the expected value when following this strategy, we find:\n",
    "\\[ EV_{2\\ rolls} = 4.25 \\]\n",
    "So, a rational investor should pay up to **$4.25** to play with one reroll option.\n",
    "\n",
    "#### **Step 3: Adding a Second Reroll**\n",
    "Now, let’s extend the game to include a **second reroll** option. This means that after the first roll, you can either keep it, reroll, or reroll again if you still aren't satisfied.\n",
    "\n",
    "Using backward induction, we determine the optimal strategy:\n",
    "- If you reach the third roll, you must accept whatever you get, which has an expected value of **3.5**.\n",
    "- If you reroll the second time, you should keep the result **if it is 4, 5, or 6**, otherwise, roll a third time.\n",
    "- On the first roll, it’s optimal to **reroll unless you roll a 5 or 6**.\n",
    "\n",
    "With this strategy, the expected value of playing optimally with two rerolls is:\n",
    "\\[ EV_{3\\ rolls} = 4.83 \\]\n",
    "Thus, the fair price for playing this game with **two rerolls** is **$4.83**.\n",
    "\n",
    "### **Key Takeaways**\n",
    "- If you **roll once**, the fair price is **$3.50**.\n",
    "- With **one reroll**, the fair price increases to **$4.25**.\n",
    "- With **two rerolls**, the fair price further increases to **$4.83**.\n",
    "- The more reroll opportunities you have, the higher the expected value—but the increase diminishes with each additional reroll.\n",
    "\n",
    "### **Conclusion**\n",
    "This problem beautifully illustrates the power of probability, decision-making, and optimal stopping strategies. If you ever encounter a similar game, now you know exactly how much you should be willing to pay!"
   ]
  },
  {
   "cell_type": "markdown",
   "id": "775efdf6-fd9a-420d-9306-87d5963de9d3",
   "metadata": {},
   "source": [
    "## Reflection:"
   ]
  },
  {
   "cell_type": "markdown",
   "id": "941fe44b-fe4d-47ab-99ca-e6c66938fa86",
   "metadata": {},
   "source": [
    "<img src=\"output.png\" width=\"50%\">"
   ]
  },
  {
   "cell_type": "markdown",
   "id": "2fa1bd1a-356d-4e44-91f6-258e8077487b",
   "metadata": {},
   "source": [
    "<img src=\"two.png\" width=\"50%\">"
   ]
  },
  {
   "cell_type": "markdown",
   "id": "ea965667-da37-431a-8315-cd6e8fb29345",
   "metadata": {},
   "source": [
    "## Reflection:\n",
    "This problem was something a little more interesting to me, and it involved probability that I think GPT did a really good job of tackling. It was able to break down the problem into the two parts of the sequence, and then effectively translate that into calculating the rationale that a reasonable individual with all information would make.\n",
    "\n",
    "Also for my interest, I wanted GPT to create graphs to see how the LLM could graphically and visually interpret the problems. This was interesting since I think that LLMs are sometimes limited in their ability to display information in a way that best connects with humans, and as such, I found that in this case, it did a decent job at tackling its task.\n"
   ]
  }
 ],
 "metadata": {
  "kernelspec": {
   "display_name": "Python 3 (ipykernel)",
   "language": "python",
   "name": "python3"
  },
  "language_info": {
   "codemirror_mode": {
    "name": "ipython",
    "version": 3
   },
   "file_extension": ".py",
   "mimetype": "text/x-python",
   "name": "python",
   "nbconvert_exporter": "python",
   "pygments_lexer": "ipython3",
   "version": "3.10.12"
  }
 },
 "nbformat": 4,
 "nbformat_minor": 5
}
