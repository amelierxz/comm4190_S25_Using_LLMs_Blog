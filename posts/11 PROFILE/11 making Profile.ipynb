{
 "cells": [
  {
   "cell_type": "raw",
   "id": "e302c937-f151-4d84-bdfb-3240a8d0b002",
   "metadata": {},
   "source": [
    "---\n",
    "title: \"Making a Cartoon profile photo\"\n",
    "description: \"Testing GPT 4o image generation\"\n",
    "author: \"An LLM User\"\n",
    "date: \"3/31/2024\"\n",
    "categories:\n",
    "  - LLMs\n",
    "  - Image generation\n",
    "  - prompting\n",
    "---"
   ]
  },
  {
   "cell_type": "markdown",
   "id": "85bf9665-92d2-4a26-af91-f20e75f22634",
   "metadata": {},
   "source": [
    "As I was going to edit my blog About page, I wanted to put a photo of myself, but nothing really overly professional or official. So, I decided to try and play with GPT 4o Image generation to see if it could make a profile photo for me that would have enough resemblance as a cartoon character but not "
   ]
  },
  {
   "cell_type": "markdown",
   "id": "c230defa-2622-4299-b649-bd23da428ecb",
   "metadata": {},
   "source": [
    "## Headshot as a Reference photo:\n",
    "<img src=\"WW Headshot.jpg\" width=\"50%\">"
   ]
  },
  {
   "cell_type": "markdown",
   "id": "e09186f2-f391-45ed-aab6-d9d61d605c2c",
   "metadata": {},
   "source": [
    "Using the headshot above, I then prompted GPT to \"Please make me a cartoon character using the reference photo.\""
   ]
  },
  {
   "cell_type": "markdown",
   "id": "94499ad9-6e82-4de5-961c-8ae293f2381e",
   "metadata": {},
   "source": [
    "## 1st Attempt:\n",
    "<img src=\"1.png\" width=\"50%\">"
   ]
  },
  {
   "cell_type": "markdown",
   "id": "f37b1e37-17bd-4baa-b706-29749a4fab04",
   "metadata": {},
   "source": [
    "After the first attempt, I wanted to see if I could make some tweaks. I asked GPT to \"Remove the freckles and make her slightly blushed, and make the sweater green.\""
   ]
  },
  {
   "cell_type": "markdown",
   "id": "2ebe426c-5d45-4fb0-afc3-8a1264da08d3",
   "metadata": {},
   "source": [
    "## 2nd Attempt:\n",
    "<img src=\"2.png\" width=\"50%\">"
   ]
  },
  {
   "cell_type": "markdown",
   "id": "63268bb0-a10a-4e86-8e0c-648c37ceb526",
   "metadata": {},
   "source": [
    "This seemed like all the tweaks were made. However, I did not think that the character looked like me enough, so I asked GPT if it could \"Make the character look more like the girl in the reference photo.\""
   ]
  },
  {
   "cell_type": "markdown",
   "id": "98fa3ab9-6b47-4da6-a1ed-bc78a4df9886",
   "metadata": {},
   "source": [
    "## Pushing too far:\n",
    "\n",
    "I unfortunately got this response:\n",
    "\n",
    "\"I couldn’t generate the updated cartoon image just now because there’s a short cooldown period due to rate limits — it’ll be about 9 minutes before I can create another one for you.\n",
    "\n",
    "In the meantime, if you have any specific tweaks in mind (like adjusting hairstyle, facial features, outfit details, or background), feel free to let me know so I can get it just right when the cooldown is over!\""
   ]
  },
  {
   "cell_type": "markdown",
   "id": "4faafdbb-4b36-41dc-9f3f-1675b48f8e1d",
   "metadata": {},
   "source": [
    "## Conclusion:\n"
   ]
  }
 ],
 "metadata": {
  "citation-manager": {
   "items": {}
  },
  "kernelspec": {
   "display_name": "Python 3 (ipykernel)",
   "language": "python",
   "name": "python3"
  },
  "language_info": {
   "codemirror_mode": {
    "name": "ipython",
    "version": 3
   },
   "file_extension": ".py",
   "mimetype": "text/x-python",
   "name": "python",
   "nbconvert_exporter": "python",
   "pygments_lexer": "ipython3",
   "version": "3.10.12"
  }
 },
 "nbformat": 4,
 "nbformat_minor": 5
}
