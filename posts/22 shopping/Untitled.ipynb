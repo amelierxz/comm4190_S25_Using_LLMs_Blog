{
 "cells": [
  {
   "cell_type": "markdown",
   "id": "02ea559d-44f0-4283-ba8d-25ae1d139ba3",
   "metadata": {},
   "source": [
    "---\n",
    "title: \"Building my new bedroom: Using AI to pick my furniture\"\n",
    "description: \"After moving out of Penn dorms, I'm on a quest to pick out my furniture for the next 2 years.\"\n",
    "author: \"Amelie Zhang\"\n",
    "date: \"5/9/2024\"\n",
    "categories:\n",
    "  - LLMs\n",
    "  - shopping\n",
    "---"
   ]
  },
  {
   "cell_type": "markdown",
   "id": "e88e8694-31b7-4f0b-8b9b-2418e4277e9f",
   "metadata": {},
   "source": [
    "# Prompt:\n",
    "I'm shopping for some new furniture. I want a queen sized bedframe that is all wood, and ideally high off the floor. Please find me some options!"
   ]
  },
  {
   "cell_type": "markdown",
   "id": "b7434de7-1a56-4c90-9a4d-13329c9e2eb4",
   "metadata": {},
   "source": [
    "# Response:\n",
    "\n",
    "Certainly! Based on your preferences for a queen-sized, all-wood bed frame that's elevated off the floor, here are some options that combine solid wood construction with ample under-bed clearance:\n",
    "\n",
    "<img src=\"1.png\" width=\"50%\">\n",
    "<img src=\"2.png\" width=\"50%\">\n",
    "<img src=\"3.png\" width=\"50%\">\n",
    "\n",
    "# Summary:\n",
    "\n",
    "Best Overall: Nomad Platform Bed by KD Frames offers a balance of minimalist design and functionality with its 15-inch height, providing ample under-bed space.\n",
    "\n",
    "Budget-Friendly Choice: Queen Size 14\" Wooden Bed Mattress Frame - Natural is an economical option without compromising on quality.\n",
    "\n",
    "Maximum Storage: Prepac Mate's Platform Storage Bed with 6 Drawers is ideal if under-bed storage is a priority.\n",
    "\n",
    "Feel free to explore these options further to find the perfect fit for your bedroom!"
   ]
  },
  {
   "cell_type": "markdown",
   "id": "1ca68c8c-a566-41cc-a1a1-e3ae7ac21c99",
   "metadata": {},
   "source": [
    "# Follow up:\n",
    "I want a headboard though - please find new options."
   ]
  },
  {
   "cell_type": "markdown",
   "id": "d1d23d7e-2956-48d5-a13a-48db1fc076d6",
   "metadata": {},
   "source": [
    "# Response:\n",
    "Certainly! Since you're looking for a queen-sized, all-wood bed frame with a headboard and ample clearance from the floor, I've curated a selection of options that meet these criteria. Below are some top picks:\n",
    "\n",
    "<img src=\"4.png\" width=\"50%\">\n",
    "<img src=\"5.png\" width=\"50%\">\n"
   ]
  },
  {
   "cell_type": "markdown",
   "id": "e1b159ab-8a41-4dd3-955b-0a013b061e9f",
   "metadata": {},
   "source": [
    "# Mood board: \n",
    "I then prompted GPT4o to help me envision my new room with the bedframe I liked.\n",
    "<img src=\"6.png\" width=\"50%\">\n",
    "\n",
    "# Adding color:\n",
    "I further told the LLM that green was my favorite color, and asked it to incorporate it into the room.\n",
    "<img src=\"7.png\" width=\"50%\">"
   ]
  },
  {
   "cell_type": "markdown",
   "id": "2cd9ec00-ebc7-4e77-8d22-55d4b91f0b87",
   "metadata": {},
   "source": [
    "# Overall thoughts:\n",
    "Though I think this is a tough task, even with humans shopping can be super difficult when its committing to furniture I'm going to sleep in for at least 2 years, I think the LLM did a good job at doing a preliminary search through options. However, it is definitely far from super helpful when it comes to trying to get a big sample size and find something you really like."
   ]
  }
 ],
 "metadata": {
  "kernelspec": {
   "display_name": "Python 3 (ipykernel)",
   "language": "python",
   "name": "python3"
  },
  "language_info": {
   "codemirror_mode": {
    "name": "ipython",
    "version": 3
   },
   "file_extension": ".py",
   "mimetype": "text/x-python",
   "name": "python",
   "nbconvert_exporter": "python",
   "pygments_lexer": "ipython3",
   "version": "3.10.12"
  }
 },
 "nbformat": 4,
 "nbformat_minor": 5
}
