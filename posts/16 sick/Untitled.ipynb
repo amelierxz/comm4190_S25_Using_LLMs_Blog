{
 "cells": [
  {
   "cell_type": "code",
   "execution_count": 5,
   "id": "260d9f1c-2600-4a12-a93f-fc758d441244",
   "metadata": {},
   "outputs": [
    {
     "name": "stdout",
     "output_type": "stream",
     "text": [
      "Collecting python-dotenv\n",
      "  Downloading python_dotenv-1.1.0-py3-none-any.whl (20 kB)\n",
      "Installing collected packages: python-dotenv\n",
      "\u001b[31mERROR: Could not install packages due to an OSError: [Errno 13] Permission denied: '/opt/jupyterhub/lib/python3.10/site-packages/dotenv'\n",
      "Check the permissions.\n",
      "\u001b[0m\u001b[31m\n",
      "\u001b[0m"
     ]
    }
   ],
   "source": [
    "import sys\n",
    "!{sys.executable} -m pip install python-dotenv"
   ]
  },
  {
   "cell_type": "code",
   "execution_count": 3,
   "id": "cbca979c-c008-4077-bc54-e790166dfcb6",
   "metadata": {},
   "outputs": [
    {
     "ename": "ModuleNotFoundError",
     "evalue": "No module named 'dotenv'",
     "output_type": "error",
     "traceback": [
      "\u001b[0;31m---------------------------------------------------------------------------\u001b[0m",
      "\u001b[0;31mModuleNotFoundError\u001b[0m                       Traceback (most recent call last)",
      "Cell \u001b[0;32mIn[3], line 3\u001b[0m\n\u001b[1;32m      1\u001b[0m \u001b[38;5;28;01mimport\u001b[39;00m \u001b[38;5;21;01mos\u001b[39;00m\n\u001b[1;32m      2\u001b[0m \u001b[38;5;28;01mfrom\u001b[39;00m \u001b[38;5;21;01mIPython\u001b[39;00m\u001b[38;5;21;01m.\u001b[39;00m\u001b[38;5;21;01mdisplay\u001b[39;00m \u001b[38;5;28;01mimport\u001b[39;00m Markdown, display\n\u001b[0;32m----> 3\u001b[0m \u001b[38;5;28;01mfrom\u001b[39;00m \u001b[38;5;21;01mdotenv\u001b[39;00m \u001b[38;5;28;01mimport\u001b[39;00m load_dotenv\n\u001b[1;32m      4\u001b[0m \u001b[38;5;28;01mfrom\u001b[39;00m \u001b[38;5;21;01mopenai\u001b[39;00m \u001b[38;5;28;01mimport\u001b[39;00m OpenAI\n\u001b[1;32m      6\u001b[0m \u001b[38;5;66;03m# Load environment variables from .env\u001b[39;00m\n",
      "\u001b[0;31mModuleNotFoundError\u001b[0m: No module named 'dotenv'"
     ]
    }
   ],
   "source": [
    "import os\n",
    "from IPython.display import Markdown, display\n",
    "from dotenv import load_dotenv\n",
    "from openai import OpenAI\n",
    "\n",
    "# Load environment variables from .env\n",
    "load_dotenv()\n",
    "\n",
    "# Initialize OpenAI client (assumes OPENAI_API_KEY is in your .env file)\n",
    "client = OpenAI()\n",
    "\n",
    "# Set model name\n",
    "model = \"gpt-4-turbo-2024-04-09\"\n",
    "\n",
    "# Correctly formatted prompt strings\n",
    "system_role = \"\"\"You are a LLM trained to diagnose people with some sickness online.\"\"\"\n",
    "initial_prompt = \"\"\"Since last night, I have been feeling slightly nauseous. The feeling comes and goes but nothing has made much of a difference. I am trying to watch what I eat but I am not sure that matters a lot, as I still feel the same type of nausea. Last night I had some\"\"\"\n",
    "\n",
    "# Messages for the chat\n",
    "messages = [\n",
    "    {\"role\": \"system\", \"content\": system_role},\n",
    "    {\"role\": \"user\", \"content\": initial_prompt},\n",
    "]\n",
    "\n",
    "# Make the API call\n",
    "completion = client.chat.completions.create(\n",
    "    model=model,\n",
    "    messages=messages,\n",
    "    n=3,\n",
    "    temperature=0.7\n",
    ")\n",
    "\n",
    "# Display responses in Markdown format\n",
    "for i, resp in enumerate(completion.choices):\n",
    "    display(Markdown(f'-----\\n#### Response {i+1}\\n{resp.message.content}\\n'))\n"
   ]
  }
 ],
 "metadata": {
  "citation-manager": {
   "items": {}
  },
  "kernelspec": {
   "display_name": "Python 3 (ipykernel)",
   "language": "python",
   "name": "python3"
  },
  "language_info": {
   "codemirror_mode": {
    "name": "ipython",
    "version": 3
   },
   "file_extension": ".py",
   "mimetype": "text/x-python",
   "name": "python",
   "nbconvert_exporter": "python",
   "pygments_lexer": "ipython3",
   "version": "3.10.12"
  }
 },
 "nbformat": 4,
 "nbformat_minor": 5
}
