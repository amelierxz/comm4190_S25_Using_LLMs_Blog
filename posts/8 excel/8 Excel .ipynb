{
 "cells": [
  {
   "cell_type": "raw",
   "id": "5c67f48a-7fe6-4e06-bb26-5cf2a4e85abd",
   "metadata": {},
   "source": [
    "---\n",
    "title: \"Chat GPT for Excel: Can AI be a personal accountant?\"\n",
    "description: \"Arranging my personal expense of January and February with AI, as I went over my personal finances.\"\n",
    "author: \"Amelie Zhang\"\n",
    "date: \"3/3/2025\"\n",
    "categories:\n",
    "  - LLMs\n",
    "  - accounting\n",
    "  - Excel\n",
    "---"
   ]
  },
  {
   "cell_type": "markdown",
   "id": "57562118-3ea9-4603-90a8-e2c2aa7aaa42",
   "metadata": {},
   "source": [
    "## Story:\n",
    "This weekend, I decided to sit down and take a closer look at my personal spending over the months of January and February. This ended up being a task really relevant to data analysis, since I had exported my bank statements of the past month and was trying to organize them in Excel. To figure out how to do this task most efficiently, I ended up asking GPT how to use certain Excel functions, and this made my life easier as it extracted the numbers of each charge from within the large block of text the statements had copied into my spreadsheet as.\n"
   ]
  },
  {
   "cell_type": "markdown",
   "id": "4fecdd3c-bd69-4385-a829-9196b08bfcf7",
   "metadata": {},
   "source": [
    "<img src=\"e.png\" width=\"50%\">"
   ]
  },
  {
   "cell_type": "markdown",
   "id": "0e540eca-3676-4fca-956e-d36f9871f866",
   "metadata": {},
   "source": [
    "Just as a comment, I'm slightly shocked with how bad the spelling and math is on this graphic - Personal spelled as Dersonal, not sure what Deceount, Amaunt, Dana, and Amount are supposed to mean. "
   ]
  },
  {
   "cell_type": "markdown",
   "id": "1736714d-440a-4641-8311-590c0b559a60",
   "metadata": {},
   "source": [
    "## GPT Response: \n",
    "\n",
    "Organizing data in Excel and pulling out numbers effectively depends on what you're trying to do. Here are a few techniques:\n",
    "\n",
    "### **1. Organizing Data in Excel**\n",
    "#### **Sorting & Filtering**\n",
    "- **Sort**: Go to **Data** → **Sort** to arrange numbers in ascending or descending order.\n",
    "- **Filter**: Use **Data** → **Filter** to show only specific values or conditions.\n",
    "\n",
    "#### **Using Tables for Better Organization**\n",
    "- Select your data and press **Ctrl + T** to create a structured table.\n",
    "- This makes filtering, sorting, and referencing easier.\n",
    "\n",
    "#### **Removing Duplicates**\n",
    "- Go to **Data** → **Remove Duplicates** to clean your dataset.\n",
    "\n",
    "---\n",
    "\n",
    "### **2. Pulling Out Numbers from Text (Extracting Numeric Values)**\n",
    "#### **Using Excel Functions**\n",
    "If your data contains numbers mixed with text, use:\n",
    "- **Extract numbers only**:\n",
    "  ```excel\n",
    "  =TEXTJOIN(\"\", TRUE, IF(ISNUMBER(MID(A1, ROW(INDIRECT(\"1:\" & LEN(A1))), 1) * 1), MID(A1, ROW(INDIRECT(\"1:\" & LEN(A1))), 1), \"\"))\n",
    "  ```\n",
    "  - Press **Ctrl + Shift + Enter** (Array formula for older versions).\n",
    "  - In Excel 365, press **Enter** directly.\n",
    "\n",
    "- **Extract first number** (if it's always at the end):\n",
    "  ```excel\n",
    "  =LOOKUP(9^9, --MID(A1, ROW($1:$100), 1))\n",
    "  ```\n",
    "\n",
    "#### **Using Flash Fill (Easy Method)**\n",
    "1. If your data is in **Column A**, type the extracted number manually in **Column B**.\n",
    "2. Press **Ctrl + E** after entering a few examples, and Excel will automatically extract numbers.\n",
    "\n",
    "---\n",
    "\n",
    "### **3. Pulling Specific Data with Formulas**\n",
    "- **VLOOKUP**:\n",
    "  ```excel\n",
    "  =VLOOKUP(lookup_value, table_array, column_index, FALSE)\n",
    "  ```\n",
    "  (Use when data is structured in columns.)\n",
    "\n",
    "- **INDEX-MATCH (Better than VLOOKUP)**:\n",
    "  ```excel\n",
    "  =INDEX(B:B, MATCH(lookup_value, A:A, 0))\n",
    "  ```\n",
    "  (Finds a value in **Column B** that corresponds to a match in **Column A**.)\n",
    "\n",
    "- **FILTER Function (Excel 365/2021)**:\n",
    "  ```excel\n",
    "  =FILTER(A:A, ISNUMBER(A:A))\n",
    "  ```\n",
    "  (Pulls out only numbers from a column.)\n",
    "\n",
    "Would you like help with a specific case? 🚀"
   ]
  },
  {
   "cell_type": "markdown",
   "id": "18d7626c-7442-4455-875a-ee4d205ea96e",
   "metadata": {},
   "source": [
    "## Follow up about copy pasting:\n",
    "\n",
    "To copy and paste just the number values in Excel without the formula, follow these steps:\n",
    "\n",
    "### **Method 1: Paste Special (Values Only)**\n",
    "1. Select the cells with the numbers you want to copy.\n",
    "2. Press **Ctrl + C** (or **Cmd + C** on Mac) to copy.\n",
    "3. Right-click the destination cell and choose **Paste Special** > **Values** (or press **Ctrl + Alt + V**, then press **V**, and hit **Enter**).\n",
    "\n",
    "### **Method 2: Using Keyboard Shortcuts**\n",
    "1. Select the cells with formulas.\n",
    "2. Press **Ctrl + C** to copy.\n",
    "3. Move to the destination cell.\n",
    "4. Press **Ctrl + Shift + V** (on newer versions of Excel) OR\n",
    "5. Press **Alt + E, S, V** (older versions) and then hit **Enter**.\n",
    "\n",
    "### **Method 3: Using \"Values\" Option from Ribbon**\n",
    "1. Select the data.\n",
    "2. Click **Home** → **Paste** dropdown (▼).\n",
    "3. Click **Paste Values (123 icon)**.\n",
    "\n",
    "This will paste only the numeric values, removing all formulas. Let me know if you need more help! 😊"
   ]
  },
  {
   "cell_type": "markdown",
   "id": "30b2a419-5df3-44d5-8e22-e5685924ec7c",
   "metadata": {},
   "source": [
    "## Reflection: \n",
    "\n",
    "This was a bit of a shift from some of my previous reflections and blog posts, where I tried to use GPT for something a little more applied or academic. However, here, I found that GPT was actually worse off when it was given a really general goal, and instead was bad at being able to parse out what information was important. This is why it became difficult to understand its output because it gave me many different equations and formulas that would be helpful, but could not explain which use cases they would be used for."
   ]
  },
  {
   "cell_type": "markdown",
   "id": "dbc6d57a-bb2a-471c-989c-3374474ab17e",
   "metadata": {},
   "source": [
    "In the end, through trial and error I believe I was able to make it work. Also, with the table function and sorting I was able to discover that I probably eat too much Just Salad."
   ]
  }
 ],
 "metadata": {
  "kernelspec": {
   "display_name": "Python 3 (ipykernel)",
   "language": "python",
   "name": "python3"
  },
  "language_info": {
   "codemirror_mode": {
    "name": "ipython",
    "version": 3
   },
   "file_extension": ".py",
   "mimetype": "text/x-python",
   "name": "python",
   "nbconvert_exporter": "python",
   "pygments_lexer": "ipython3",
   "version": "3.10.12"
  }
 },
 "nbformat": 4,
 "nbformat_minor": 5
}
