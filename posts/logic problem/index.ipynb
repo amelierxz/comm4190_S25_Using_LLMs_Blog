{
 "cells": [
  {
   "cell_type": "raw",
   "id": "ceb26b6d-d77d-4a43-8a72-f9758596005e",
   "metadata": {},
   "source": [
    "---\n",
    "title: \"Second post about a logic problem\"\n",
    "description: \"Trying to figure out how to use this thing\"\n",
    "author: \"An LLM User\"\n",
    "date: \"2/2/2024\"\n",
    "categories:\n",
    "  - LLMs\n",
    "  - prompting\n",
    "  - logic\n",
    "---"
   ]
  },
  {
   "cell_type": "markdown",
   "id": "b58618eb-dd92-483b-a802-cf2083e61d6d",
   "metadata": {},
   "source": [
    "## A logic problem for LLMs \n",
    "\n",
    "* Read the following and see if you can answer the question:\n",
    "\n",
    ">### The Stolen Key (created by GPT 4o)\n",
    "\n",
    "Four friends—Alex, Ben, Cara, and Dana—were the only people in a locked house when the front door key went missing. Each of them made a statement:  \n",
    "\n",
    "- **Alex**: \"I didn’t take the key.\"  \n",
    "- **Ben**: \"Cara took the key.\"  \n",
    "- **Cara**: \"Dana is lying.\"  \n",
    "- **Dana**: \"Ben is lying.\"  \n",
    "\n",
    "Only one of them is telling the truth. Who stole the key?"
   ]
  },
  {
   "cell_type": "markdown",
   "id": "28b4f8ce-0eb8-47b7-ab32-026a9efd5f34",
   "metadata": {},
   "source": [
    "### How do LLMs response to the prompt?\n",
    "\n",
    "**GPT4o**\n",
    "\n",
    "Let's analyze the statements logically:\n",
    "\n",
    "- Only **one** person is telling the truth.\n",
    "- If **Ben** were telling the truth (\"Cara took the key\"), then all other statements must be false.\n",
    "  - Alex saying \"I didn’t take the key\" would be false → meaning Alex **did** take the key. This contradicts Ben's claim.\n",
    "  - Therefore, Ben is **lying**.\n",
    "\n",
    "Since Ben is lying, Cara **did not** take the key. That means we must find another truth-teller.\n",
    "\n",
    "- If **Cara** were telling the truth (\"Dana is lying\"), then:\n",
    "  - Dana saying \"Ben is lying\" would be false, meaning Ben is **telling the truth**.\n",
    "  - But we already established that Ben was lying, so this contradicts our assumption.\n",
    "\n",
    "Since Cara cannot be the truth-teller either, let’s check Dana.\n",
    "\n",
    "- If **Dana** were telling the truth (\"Ben is lying\"), then:\n",
    "  - Ben’s statement (\"Cara took the key\") is false → meaning **Cara did NOT take the key**.\n",
    "  - That makes Alex’s statement (\"I didn’t take the key\") false → meaning **Alex DID take the key**.\n",
    "\n",
    "Since this setup is consistent and only one truth-teller exists, the **key was stolen by Alex**."
   ]
  },
  {
   "cell_type": "code",
   "execution_count": 5,
   "id": "836cb42b-4a1b-40f2-8ad5-1b55ba306e2b",
   "metadata": {},
   "outputs": [],
   "source": [
    "##GPT4o1\n",
    "\n",
    "**Answer: Alex took the key.**\n",
    "\n",
    "Here’s a quick way to see why:\n",
    "\n",
    "1. **Assume Dana is telling the truth** (“Ben is lying”).\n",
    "2. If Ben is lying, then “Cara took the key” is false, so Cara did **not** take the key.\n",
    "3. Because only one statement can be true, Alex’s and Cara’s statements must be false:\n",
    "   - Alex’s statement “I didn’t take the key” is false, so Alex **did** take the key.\n",
    "   - Cara’s statement “Dana is lying” is false, meaning Dana is indeed telling the truth.\n",
    "\n",
    "All conditions are satisfied with Dana telling the truth and Alex as the thief."
   ]
  }
 ],
 "metadata": {
  "citation-manager": {
   "items": {}
  },
  "kernelspec": {
   "display_name": "Python 3-12 (COMM4190)",
   "language": "python",
   "name": "python3-12_comm4190"
  },
  "language_info": {
   "codemirror_mode": {
    "name": "ipython",
    "version": 3
   },
   "file_extension": ".py",
   "mimetype": "text/x-python",
   "name": "python",
   "nbconvert_exporter": "python",
   "pygments_lexer": "ipython3",
   "version": "3.12.8"
  }
 },
 "nbformat": 4,
 "nbformat_minor": 5
}
